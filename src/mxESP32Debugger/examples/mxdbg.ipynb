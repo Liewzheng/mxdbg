{
 "cells": [
  {
   "cell_type": "markdown",
   "metadata": {},
   "source": [
    "# Initialization"
   ]
  },
  {
   "cell_type": "code",
   "execution_count": 1,
   "metadata": {},
   "outputs": [
    {
     "name": "stderr",
     "output_type": "stream",
     "text": [
      "\u001b[32m2025-03-22 16:00:24.983\u001b[0m | \u001b[1mINFO    \u001b[0m | \u001b[36mmxESP32Debugger.debugger\u001b[0m:\u001b[36mconnect\u001b[0m:\u001b[36m249\u001b[0m - \u001b[1mUsing serial port to connect. Port: COM4\u001b[0m\n",
      "\u001b[32m2025-03-22 16:00:24.984\u001b[0m | \u001b[1mINFO    \u001b[0m | \u001b[36mmxESP32Debugger.debugger\u001b[0m:\u001b[36mconnect\u001b[0m:\u001b[36m254\u001b[0m - \u001b[1mUsing ESP32-S3R8.\u001b[0m\n",
      "\u001b[32m2025-03-22 16:00:24.984\u001b[0m | \u001b[1mINFO    \u001b[0m | \u001b[36mmxESP32Debugger.debugger\u001b[0m:\u001b[36mconnect\u001b[0m:\u001b[36m255\u001b[0m - \u001b[1mEmbedded software version: v1.0\u001b[0m\n",
      "\u001b[32m2025-03-22 16:00:24.985\u001b[0m | \u001b[1mINFO    \u001b[0m | \u001b[36mmxESP32Debugger.debugger\u001b[0m:\u001b[36mconnect\u001b[0m:\u001b[36m256\u001b[0m - \u001b[1mLibrary version: v241210.0.rc3.\u001b[0m\n"
     ]
    }
   ],
   "source": [
    "from mxESP32Debugger.debugger import Dbg as MXDBG\n",
    "import time\n",
    "\n",
    "dev = MXDBG()"
   ]
  },
  {
   "cell_type": "markdown",
   "metadata": {},
   "source": [
    "# I2C Write and Read"
   ]
  },
  {
   "cell_type": "code",
   "execution_count": null,
   "metadata": {},
   "outputs": [],
   "source": [
    "power_address = 0x20  # including LDP (P00 ~ P07) / VDD (P10 ~ P17)\n",
    "mot_address = 0x18\n",
    "i2c_address = 0x70\n",
    "ots_address = 0x74\n",
    "\n",
    "callisto_register_list = [\n",
    "    \n",
    "    # basic settings\n",
    "    [0x09, 0x5A],\n",
    "    [0x3C, 0xAC],\n",
    "    [0x09, 0xA5],\n",
    "    [0x6D, 0x39],\n",
    "    [0x19, 0x04],\n",
    "    [0x0D, 0x20, 0x20],\n",
    "\n",
    "    # advanced settings\n",
    "    [0x3E, 0x71],\n",
    "    [0x48, 0xFF],\n",
    "    [0x1F, 0xFF],\n",
    "    [0x73, 0x10],\n",
    "\n",
    "    [0x68, 0x7F, 0x84],\n",
    "    [0x7D, 0x60],\n",
    "    # [0x7E, 0x00],\n",
    "    [0x60, 0x00],\n",
    "    [0x6E, 0x37],\n",
    "    [0x3F, 0x01],\n",
    "    [0x52, 0x2E],\n",
    "    [0x3F, 0x00],\n",
    "    [0x0B, 0x70],\n",
    "    [0x05, 0xBC],\n",
    "]"
   ]
  },
  {
   "cell_type": "code",
   "execution_count": null,
   "metadata": {},
   "outputs": [],
   "source": [
    "ret, data = dev.i2c_write_read(0x74, [0x06, 0x91], 0)\n",
    "print(ret, data)\n",
    "\n",
    "for reg in callisto_register_list:\n",
    "    ret, data = dev.i2c_write_read(0x74, reg, 0)\n",
    "ret, data = dev.i2c_write_read(0x74, [0x00], 2)\n",
    "print(ret, data)"
   ]
  },
  {
   "cell_type": "markdown",
   "metadata": {},
   "source": [
    "# I2C Configuration"
   ]
  },
  {
   "cell_type": "code",
   "execution_count": null,
   "metadata": {},
   "outputs": [],
   "source": [
    "ret, data = dev.i2c_config(sda_pin=10, scl_pin=11, freq=400000, sda_pullup=True, scl_pullup=True)\n",
    "print(ret, data)"
   ]
  },
  {
   "cell_type": "markdown",
   "metadata": {},
   "source": [
    "# GPIO Configuration"
   ]
  },
  {
   "cell_type": "code",
   "execution_count": null,
   "metadata": {},
   "outputs": [],
   "source": [
    "ret = dev.gpio_config(pin=40,\n",
    "                    mode=dev.gpio_mode[\"GPIO_MODE_OUTPUT\"],\n",
    "                    pull_up=1,\n",
    "                    pull_down=0)\n",
    "print(ret)"
   ]
  },
  {
   "cell_type": "markdown",
   "metadata": {},
   "source": [
    "# GPIO write and read"
   ]
  },
  {
   "cell_type": "code",
   "execution_count": null,
   "metadata": {},
   "outputs": [],
   "source": [
    "for _ in range(100):\n",
    "    ret, data = dev.gpio_write_read(40, 1)\n",
    "    print(ret, data)\n",
    "    time.sleep(1)\n",
    "    ret, data = dev.gpio_write_read(40, 0)\n",
    "    print(ret, data)\n",
    "    time.sleep(1)"
   ]
  },
  {
   "cell_type": "markdown",
   "metadata": {},
   "source": [
    "# PWM run and stop"
   ]
  },
  {
   "cell_type": "code",
   "execution_count": null,
   "metadata": {},
   "outputs": [],
   "source": [
    "ret, data = dev.pwm_run_stop(True, 0)\n",
    "print(ret, data)\n"
   ]
  },
  {
   "cell_type": "code",
   "execution_count": null,
   "metadata": {},
   "outputs": [],
   "source": [
    "ret, data = dev.pwm_run_stop(False, 0)\n",
    "print(ret, data)\n",
    "ret, data = dev.pwm_run_stop(False, 1)\n",
    "print(ret, data)\n",
    "ret, data = dev.pwm_run_stop(False, 2)\n",
    "print(ret, data)"
   ]
  },
  {
   "cell_type": "markdown",
   "metadata": {},
   "source": [
    "# PWM Configuration"
   ]
  },
  {
   "cell_type": "code",
   "execution_count": null,
   "metadata": {},
   "outputs": [],
   "source": [
    "ret, data = dev.pwm_config(pin=16, freq=10_000, duty=0.5, channel=0, resolution_hz=80_000_000)\n",
    "print(ret, data)\n",
    " \n"
   ]
  },
  {
   "cell_type": "markdown",
   "metadata": {},
   "source": [
    "# SPI write and read\n",
    "## 3WIRE HALF DUPLEX SPI"
   ]
  },
  {
   "cell_type": "code",
   "execution_count": null,
   "metadata": {},
   "outputs": [],
   "source": [
    "for _ in range(100):\n",
    "    ret, data = dev.spi_write_read([0x01], 1)\n",
    "    assert data[0] == 0x59, \"read_error\""
   ]
  },
  {
   "cell_type": "markdown",
   "metadata": {},
   "source": [
    "## 4WIRE FULL DUPLEX SPI"
   ]
  },
  {
   "cell_type": "code",
   "execution_count": null,
   "metadata": {},
   "outputs": [],
   "source": [
    "ret, data = dev.spi_write_read([0x00, 0x00], 2)\n",
    "print(ret, data)\n",
    "ret, data = dev.spi_write_read([0x01, 0x00], 2)\n",
    "print(ret, data)"
   ]
  },
  {
   "cell_type": "markdown",
   "metadata": {},
   "source": [
    "# SPI Configuration\n",
    "## 3WIRE HALF DUPLEX SPI"
   ]
  },
  {
   "cell_type": "code",
   "execution_count": null,
   "metadata": {},
   "outputs": [],
   "source": [
    "ret, data = dev.spi_config(freq=1000000,\n",
    "                           miso_io_num=-1,\n",
    "                           cs_ena_pretrans=1,\n",
    "                           cs_ena_posttrans=1,\n",
    "                           device_interface_flags=(dev.spi_device[\"SPI_DEVICE_HALFDUPLEX\"] | dev.spi_device[\"SPI_DEVICE_3WIRE\"])\n",
    "                           )\n",
    "print(ret, data)"
   ]
  },
  {
   "cell_type": "markdown",
   "metadata": {},
   "source": [
    "# Power Control"
   ]
  },
  {
   "cell_type": "code",
   "execution_count": null,
   "metadata": {},
   "outputs": [],
   "source": [
    "observe_time_s = 3\n",
    "for _ in range(4):\n",
    "    dev.power_control(communication_type=\"I2C\", power_type=\"1V2\")\n",
    "    time.sleep(observe_time_s)\n",
    "    dev.power_control(communication_type=\"I2C\", power_type=\"1V8\")\n",
    "    time.sleep(observe_time_s)\n",
    "    dev.power_control(communication_type=\"I2C\", power_type=\"3V3\")\n",
    "    time.sleep(observe_time_s)\n",
    "    dev.power_control(communication_type=\"I2C\", power_type=\"0V\")\n",
    "    time.sleep(observe_time_s)"
   ]
  },
  {
   "cell_type": "code",
   "execution_count": null,
   "metadata": {},
   "outputs": [],
   "source": [
    "observe_time_s = 3\n",
    "for _ in range(4):\n",
    "    dev.power_control(communication_type=\"SPI\", power_type=\"1V2\")\n",
    "    time.sleep(observe_time_s)\n",
    "    dev.power_control(communication_type=\"SPI\", power_type=\"1V8\")\n",
    "    time.sleep(observe_time_s)\n",
    "    dev.power_control(communication_type=\"SPI\", power_type=\"3V3\")\n",
    "    time.sleep(observe_time_s)\n",
    "    dev.power_control(communication_type=\"SPI\", power_type=\"0V\")\n",
    "    time.sleep(observe_time_s)"
   ]
  },
  {
   "cell_type": "markdown",
   "metadata": {},
   "source": [
    "# Expand IO Write and Read\n",
    "\n",
    "> Both ExtBoard v0.1 and ExtBoard v0.2.1 are supported now.\n",
    "\n",
    "**How to use it?**: \n",
    "1. Call `dev.expand_io_config()` to configure the expand IO as input or output mode.\n",
    "2. Call `dev.expand_io_write_read()` to write or read the expand IO just like the normal GPIO called as `dev.gpio_write_read()`.\n",
    "\n",
    "**NOTE**:\n",
    "1. `IO0` (the rightest pin in `J4`) is in open-drain mode in default in ExtBoard v0.1, which means that you need use a pull-up resistor to pull up the voltage level to high level physically."
   ]
  },
  {
   "cell_type": "code",
   "execution_count": null,
   "metadata": {},
   "outputs": [],
   "source": [
    "# in ExtBoard v0.1\n",
    "\n",
    "# try to read level\n",
    "ret, data = dev.expand_io_write_read(7)\n",
    "print(ret, data)\n",
    "\n",
    "# try to configure IO7 as an output pin\n",
    "ret, data = dev.expand_io_config(7, 1)\n",
    "print(ret, data)\n",
    "\n",
    "# try to set pin as low level\n",
    "ret, data = dev.expand_io_write_read(7, 0)\n",
    "print(ret, data)\n",
    "\n",
    "# try to read level\n",
    "ret, data = dev.expand_io_write_read(7)\n",
    "print(ret, data)"
   ]
  },
  {
   "cell_type": "code",
   "execution_count": null,
   "metadata": {},
   "outputs": [],
   "source": [
    "# in ExtBoard v0.2.1\n",
    "\n",
    "#! ATTENTION: IO6(1V8_1) / IO7(1V8_2) / IO10(3V3_1) / IO11(3V3_2) are not \n",
    "#!            supported to be configured as an input pin.\n",
    "\n",
    "# the power resource pins has 3 ways to control, just as follows.\n",
    "\n",
    "ret, data = dev.expand_io_write_read(\"1v8_1\", 1) \n",
    "print(ret, data)\n",
    "\n",
    "ret, data = dev.expand_io_write_read(\"IO6\", 1)\n",
    "print(ret, data)\n",
    "\n",
    "ret, data = dev.expand_io_write_read(6, 1)\n",
    "print(ret, data)"
   ]
  },
  {
   "cell_type": "markdown",
   "metadata": {},
   "source": [
    "# ADC"
   ]
  },
  {
   "cell_type": "code",
   "execution_count": 2,
   "metadata": {},
   "outputs": [
    {
     "data": {
      "text/plain": [
       "(True, None)"
      ]
     },
     "execution_count": 2,
     "metadata": {},
     "output_type": "execute_result"
    }
   ],
   "source": [
    "import numpy as np\n",
    "import matplotlib.pyplot as plt\n",
    "import pandas as pd\n",
    "dev.usb_config(False)"
   ]
  },
  {
   "cell_type": "code",
   "execution_count": 52,
   "metadata": {},
   "outputs": [
    {
     "name": "stderr",
     "output_type": "stream",
     "text": [
      "\u001b[32m2025-03-22 16:18:56.406\u001b[0m | \u001b[34m\u001b[1mDEBUG   \u001b[0m | \u001b[36mmxESP32Debugger.debugger\u001b[0m:\u001b[36madc_config\u001b[0m:\u001b[36m1181\u001b[0m - \u001b[34m\u001b[1mSampling Frequency: 10000\u001b[0m\n"
     ]
    }
   ],
   "source": [
    "channel_config_list = [\n",
    "    {\n",
    "        \"attenuation\": 3,\n",
    "        \"channel\": 3,\n",
    "        \"bit_width\": 12\n",
    "    },\n",
    "    {\n",
    "        \"attenuation\": 3,\n",
    "        \"channel\": 4,\n",
    "        \"bit_width\": 12\n",
    "    },\n",
    "]\n",
    "\n",
    "ret, data = dev.adc_config(channel_config_list, \n",
    "                           sampling_frequency=10_000)"
   ]
  },
  {
   "cell_type": "code",
   "execution_count": 18,
   "metadata": {},
   "outputs": [],
   "source": [
    "atten_dict = {\n",
    "    0: {\n",
    "      'min_range': 0, # mv\n",
    "        'max_range': 950,  # mv \n",
    "    },\n",
    "    1: {\n",
    "        'min_range': 0, # mv\n",
    "        'max_range': 1250,  # mv\n",
    "    },\n",
    "    2: {\n",
    "        'min_range': 0, # mv\n",
    "        'max_range': 1750,  # mv\n",
    "    },\n",
    "    3: {\n",
    "        'min_range': 0, # mv\n",
    "        'max_range': 3100,  # mv\n",
    "    },\n",
    "}"
   ]
  },
  {
   "cell_type": "code",
   "execution_count": 53,
   "metadata": {},
   "outputs": [
    {
     "name": "stdout",
     "output_type": "stream",
     "text": [
      "[26711, 32768, 26712, 32768, 26713, 32768, 26713, 32768, 26715, 32768]\n"
     ]
    },
    {
     "data": {
      "image/png": "[encoded data removed]",
      "text/plain": [
       "<Figure size 640x480 with 1 Axes>"
      ]
     },
     "metadata": {},
     "output_type": "display_data"
    },
    {
     "data": {
      "image/png": "[encoded data removed]",
      "text/plain": [
       "<Figure size 640x480 with 1 Axes>"
      ]
     },
     "metadata": {},
     "output_type": "display_data"
    }
   ],
   "source": [
    "\n",
    "ret, data = dev.adc_read(read_len=256, timeout=1)\n",
    "assert ret, \"read adc data error\"\n",
    "data_np = np.frombuffer(data, dtype='<u4')\n",
    "print(data_np.tolist()[-10:])\n",
    "data_list = []\n",
    "\n",
    "for d in data_np:\n",
    "    temp = {}\n",
    "    temp['data']    = (d & int('0000_0000_0000_0000_0000_1111_1111_1111',2)) >> 0\n",
    "    temp['channel'] = (d & int('0000_0000_0000_0001_1110_0000_0000_0000',2)) >> 13\n",
    "    temp['unit']    = (d & int('0000_0000_0000_0010_0000_0000_0000_0000',2)) >> 17\n",
    "    temp['voltage'] = temp['data'] * 3.1 / (2**12)\n",
    "    data_list.append(temp)\n",
    "    \n",
    "data_df = pd.DataFrame(data_list)\n",
    "\n",
    "# print(data_df)\n",
    "# plot all the data according to the channel\n",
    "for channel in data_df['channel'].unique():\n",
    "    data_df_channel = data_df[data_df['channel'] == channel]\n",
    "    plt.plot(data_df_channel['data'], label=f'Channel {channel}')\n",
    "    plt.title(f'ADC Data for Channel {channel}')\n",
    "    plt.xlabel('Sample Number')\n",
    "    plt.ylabel('ADC Value')\n",
    "    plt.legend()\n",
    "    plt.grid()\n",
    "    plt.show()"
   ]
  },
  {
   "cell_type": "markdown",
   "metadata": {},
   "source": [
    "# Restart"
   ]
  },
  {
   "cell_type": "code",
   "execution_count": null,
   "metadata": {},
   "outputs": [],
   "source": [
    "dev.restart()"
   ]
  }
 ],
 "metadata": {
  "kernelspec": {
   "display_name": ".venv",
   "language": "python",
   "name": "python3"
  },
  "language_info": {
   "codemirror_mode": {
    "name": "ipython",
    "version": 3
   },
   "file_extension": ".py",
   "mimetype": "text/x-python",
   "name": "python",
   "nbconvert_exporter": "python",
   "pygments_lexer": "ipython3",
   "version": "3.12.2"
  }
 },
 "nbformat": 4,
 "nbformat_minor": 2
}
