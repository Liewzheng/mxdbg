{
 "cells": [
  {
   "cell_type": "code",
   "execution_count": 1,
   "metadata": {},
   "outputs": [],
   "source": [
    "import matplotlib.pyplot as plt\n",
    "from mxESP32Debugger.debugger import Dbg\n",
    "import time\n",
    "import toml\n",
    "import numpy as np                                                                                                      \n",
    "from loguru import logger"
   ]
  },
  {
   "cell_type": "code",
   "execution_count": 2,
   "metadata": {},
   "outputs": [],
   "source": [
    "with open(\"gc6153.toml\", 'r', encoding='utf-8') as f:\n",
    "    config = toml.load(f)\n",
    "    \n",
    "init_reg_list = config['init']['reg_list']\n",
    "mode_reg_list = config['mode']['reg_list']"
   ]
  },
  {
   "cell_type": "code",
   "execution_count": 3,
   "metadata": {},
   "outputs": [
    {
     "name": "stderr",
     "output_type": "stream",
     "text": [
      "\u001b[32m2025-03-19 13:46:05.605\u001b[0m | \u001b[1mINFO    \u001b[0m | \u001b[36mmxESP32Debugger.debugger\u001b[0m:\u001b[36mconnect\u001b[0m:\u001b[36m249\u001b[0m - \u001b[1mUsing serial port to connect. Port: COM4\u001b[0m\n",
      "\u001b[32m2025-03-19 13:46:05.607\u001b[0m | \u001b[1mINFO    \u001b[0m | \u001b[36mmxESP32Debugger.debugger\u001b[0m:\u001b[36mconnect\u001b[0m:\u001b[36m254\u001b[0m - \u001b[1mUsing ESP32-S3R8.\u001b[0m\n",
      "\u001b[32m2025-03-19 13:46:05.608\u001b[0m | \u001b[1mINFO    \u001b[0m | \u001b[36mmxESP32Debugger.debugger\u001b[0m:\u001b[36mconnect\u001b[0m:\u001b[36m255\u001b[0m - \u001b[1mEmbedded software version: v1.0\u001b[0m\n",
      "\u001b[32m2025-03-19 13:46:05.608\u001b[0m | \u001b[1mINFO    \u001b[0m | \u001b[36mmxESP32Debugger.debugger\u001b[0m:\u001b[36mconnect\u001b[0m:\u001b[36m256\u001b[0m - \u001b[1mLibrary version: v241210.0.rc3.\u001b[0m\n",
      "\u001b[32m2025-03-19 13:46:05.631\u001b[0m | \u001b[1mINFO    \u001b[0m | \u001b[36mmxESP32Debugger.debugger\u001b[0m:\u001b[36mget_extboard_version\u001b[0m:\u001b[36m1718\u001b[0m - \u001b[1mExtension board version: v0.2.1\u001b[0m\n"
     ]
    },
    {
     "data": {
      "text/plain": [
       "True"
      ]
     },
     "execution_count": 3,
     "metadata": {},
     "output_type": "execute_result"
    }
   ],
   "source": [
    "dev = Dbg()\n",
    "dev.usb_config(False)\n",
    "dev.power_init()"
   ]
  },
  {
   "cell_type": "code",
   "execution_count": 4,
   "metadata": {},
   "outputs": [
    {
     "data": {
      "text/plain": [
       "(True, None)"
      ]
     },
     "execution_count": 4,
     "metadata": {},
     "output_type": "execute_result"
    }
   ],
   "source": [
    "dev.i2c_config(sda_pullup=False, scl_pullup=False, freq=400_000)"
   ]
  },
  {
   "cell_type": "code",
   "execution_count": 5,
   "metadata": {},
   "outputs": [
    {
     "data": {
      "text/plain": [
       "True"
      ]
     },
     "execution_count": 5,
     "metadata": {},
     "output_type": "execute_result"
    }
   ],
   "source": [
    "dev.power_control(\"I2C\", \"3v3\")\n",
    "dev.power_control(\"SPI\", \"3v3\")"
   ]
  },
  {
   "cell_type": "code",
   "execution_count": 6,
   "metadata": {},
   "outputs": [
    {
     "data": {
      "text/plain": [
       "(True, None)"
      ]
     },
     "execution_count": 6,
     "metadata": {},
     "output_type": "execute_result"
    }
   ],
   "source": [
    "pdn_pin = 39\n",
    "mclk_en_pin = 40\n",
    "dev.gpio_config(pin=pdn_pin, mode=0x02, pull_up=True, pull_down=False)\n",
    "dev.gpio_config(pin=mclk_en_pin, mode=0x02, pull_up=True, pull_down=False)\n",
    "dev.gpio_write_read(pin=mclk_en_pin, level=1)"
   ]
  },
  {
   "cell_type": "code",
   "execution_count": 7,
   "metadata": {},
   "outputs": [
    {
     "data": {
      "text/plain": [
       "(True, None)"
      ]
     },
     "execution_count": 7,
     "metadata": {},
     "output_type": "execute_result"
    }
   ],
   "source": [
    "time.sleep(100/1000)\n",
    "dev.gpio_write_read(pin=pdn_pin, level=1)\n",
    "time.sleep(10/1000)\n",
    "dev.gpio_write_read(pin=pdn_pin, level=0)\n",
    "time.sleep(10/1000)\n",
    "dev.gpio_write_read(pin=pdn_pin, level=1)\n",
    "time.sleep(10/1000)\n",
    "dev.gpio_write_read(pin=pdn_pin, level=0)"
   ]
  },
  {
   "cell_type": "code",
   "execution_count": 8,
   "metadata": {},
   "outputs": [
    {
     "name": "stderr",
     "output_type": "stream",
     "text": [
      "\u001b[32m2025-03-19 13:46:05.994\u001b[0m | \u001b[1mINFO    \u001b[0m | \u001b[36m__main__\u001b[0m:\u001b[36m<module>\u001b[0m:\u001b[36m3\u001b[0m - \u001b[1mchipid: 0x6153\u001b[0m\n"
     ]
    }
   ],
   "source": [
    "ret, chipid = dev.i2c_write_read(0x40, [0xf0], 2)\n",
    "assert ret, \"I2C read chipid failed\"\n",
    "logger.info(\"chipid: 0x{:04X}\", (chipid[0] << 8) | chipid[1])"
   ]
  },
  {
   "cell_type": "code",
   "execution_count": 9,
   "metadata": {},
   "outputs": [],
   "source": [
    "for reg in init_reg_list:\n",
    "    ret, _ = dev.i2c_write_read(slave_id=0x40, write_list=reg, read_length=0)\n",
    "    assert ret, \"I2C write init reg list error\"\n",
    "for reg in mode_reg_list:\n",
    "    ret, _ = dev.i2c_write_read(slave_id=0x40, write_list=reg, read_length=0)\n",
    "    assert ret, \"I2C write mode reg list error\"\n",
    "    "
   ]
  },
  {
   "cell_type": "code",
   "execution_count": 10,
   "metadata": {},
   "outputs": [
    {
     "name": "stderr",
     "output_type": "stream",
     "text": [
      "\u001b[32m2025-03-19 13:46:07.405\u001b[0m | \u001b[1mINFO    \u001b[0m | \u001b[36m__main__\u001b[0m:\u001b[36m<module>\u001b[0m:\u001b[36m2\u001b[0m - \u001b[1mread_size: 157453\u001b[0m\n",
      "\u001b[32m2025-03-19 13:46:07.406\u001b[0m | \u001b[1mINFO    \u001b[0m | \u001b[36m__main__\u001b[0m:\u001b[36m<module>\u001b[0m:\u001b[36m6\u001b[0m - \u001b[1mmax_transfer_size: 157568\u001b[0m\n"
     ]
    }
   ],
   "source": [
    "read_size = 320 * 240 * 2 + (320 * 12) + (9 + 4)\n",
    "logger.info(f\"read_size: {read_size}\")\n",
    "\n",
    "aligned_size = 128\n",
    "max_transfer_size = aligned_size - read_size % aligned_size + read_size\n",
    "logger.info(f\"max_transfer_size: {max_transfer_size}\")"
   ]
  },
  {
   "cell_type": "code",
   "execution_count": 11,
   "metadata": {},
   "outputs": [
    {
     "data": {
      "text/plain": [
       "(True, None)"
      ]
     },
     "execution_count": 11,
     "metadata": {},
     "output_type": "execute_result"
    }
   ],
   "source": [
    "# configure spi as slave mode\n",
    "dev.spi_config(miso_io_num=12, mosi_io_num=13, sclk_io_num=14, cs_io_num=15, mode=3, master_slave_mode=1, max_transfer_sz=max_transfer_size)"
   ]
  },
  {
   "cell_type": "code",
   "execution_count": 13,
   "metadata": {},
   "outputs": [
    {
     "ename": "TimeoutError",
     "evalue": "Data read timeout. No data received.",
     "output_type": "error",
     "traceback": [
      "\u001b[1;31m---------------------------------------------------------------------------\u001b[0m",
      "\u001b[1;31mTimeoutError\u001b[0m                              Traceback (most recent call last)",
      "Cell \u001b[1;32mIn[13], line 1\u001b[0m\n\u001b[1;32m----> 1\u001b[0m ret, data \u001b[38;5;241m=\u001b[39m \u001b[43mdev\u001b[49m\u001b[38;5;241;43m.\u001b[39;49m\u001b[43mspi_write_read\u001b[49m\u001b[43m(\u001b[49m\u001b[43m[\u001b[49m\u001b[43m]\u001b[49m\u001b[43m,\u001b[49m\u001b[43m \u001b[49m\u001b[43mread_size\u001b[49m\u001b[43m,\u001b[49m\u001b[43m \u001b[49m\u001b[43mtimeout\u001b[49m\u001b[38;5;241;43m=\u001b[39;49m\u001b[38;5;241;43m5\u001b[39;49m\u001b[43m,\u001b[49m\u001b[43m \u001b[49m\u001b[43mdebug_mode\u001b[49m\u001b[38;5;241;43m=\u001b[39;49m\u001b[38;5;28;43;01mFalse\u001b[39;49;00m\u001b[43m)\u001b[49m\n\u001b[0;32m      2\u001b[0m \u001b[38;5;28;01massert\u001b[39;00m ret, \u001b[38;5;124m\"\u001b[39m\u001b[38;5;124mRead image failed\u001b[39m\u001b[38;5;124m\"\u001b[39m\n\u001b[0;32m      4\u001b[0m \u001b[38;5;28;01mwith\u001b[39;00m \u001b[38;5;28mopen\u001b[39m(\u001b[38;5;124m\"\u001b[39m\u001b[38;5;124mdata_raw.txt\u001b[39m\u001b[38;5;124m\"\u001b[39m, \u001b[38;5;124m'\u001b[39m\u001b[38;5;124mw\u001b[39m\u001b[38;5;124m'\u001b[39m, encoding\u001b[38;5;241m=\u001b[39m\u001b[38;5;124m'\u001b[39m\u001b[38;5;124mutf-8\u001b[39m\u001b[38;5;124m'\u001b[39m) \u001b[38;5;28;01mas\u001b[39;00m f:\n",
      "File \u001b[1;32mF:\\gitlab\\mxdbg\\src\\mxESP32Debugger\\debugger.py:891\u001b[0m, in \u001b[0;36mDbg.spi_write_read\u001b[1;34m(self, write_list, read_length, critical_mode, justice, justice_index, spi_timeout, examine_period, **kwargs)\u001b[0m\n\u001b[0;32m    888\u001b[0m spi_data_temp \u001b[38;5;241m+\u001b[39m\u001b[38;5;241m=\u001b[39m write_list\n\u001b[0;32m    889\u001b[0m spi_data_temp \u001b[38;5;241m+\u001b[39m\u001b[38;5;241m=\u001b[39m [critical_mode, justice, justice_index, examine_period, spi_timeout]\n\u001b[1;32m--> 891\u001b[0m ret, data \u001b[38;5;241m=\u001b[39m \u001b[38;5;28;43mself\u001b[39;49m\u001b[38;5;241;43m.\u001b[39;49m\u001b[43m__task_execute\u001b[49m\u001b[43m(\u001b[49m\u001b[38;5;28;43mself\u001b[39;49m\u001b[38;5;241;43m.\u001b[39;49m\u001b[43mtask_cmd\u001b[49m\u001b[43m[\u001b[49m\u001b[38;5;124;43m\"\u001b[39;49m\u001b[38;5;124;43mTASK_SPI_WRITE_READ\u001b[39;49m\u001b[38;5;124;43m\"\u001b[39;49m\u001b[43m]\u001b[49m\u001b[43m,\u001b[49m\u001b[43m \u001b[49m\u001b[43mspi_data_temp\u001b[49m\u001b[43m,\u001b[49m\u001b[43m \u001b[49m\u001b[43mmassive_mode\u001b[49m\u001b[38;5;241;43m=\u001b[39;49m\u001b[43m(\u001b[49m\u001b[38;5;28;43;01mTrue\u001b[39;49;00m\u001b[43m \u001b[49m\u001b[38;5;28;43;01mif\u001b[39;49;00m\u001b[43m \u001b[49m\u001b[43mread_length\u001b[49m\u001b[43m \u001b[49m\u001b[38;5;241;43m>\u001b[39;49m\u001b[43m \u001b[49m\u001b[38;5;28;43mself\u001b[39;49m\u001b[38;5;241;43m.\u001b[39;49m\u001b[43m__CONFIG_TINYUSB_CDC_TX_BUFSIZE\u001b[49m\u001b[43m \u001b[49m\u001b[38;5;28;43;01melse\u001b[39;49;00m\u001b[43m \u001b[49m\u001b[38;5;28;43;01mFalse\u001b[39;49;00m\u001b[43m)\u001b[49m\u001b[43m,\u001b[49m\u001b[43m \u001b[49m\u001b[38;5;241;43m*\u001b[39;49m\u001b[38;5;241;43m*\u001b[39;49m\u001b[43mkwargs\u001b[49m\u001b[43m)\u001b[49m\n\u001b[0;32m    893\u001b[0m \u001b[38;5;28mself\u001b[39m\u001b[38;5;241m.\u001b[39m__check_ret_code(\u001b[38;5;28mself\u001b[39m\u001b[38;5;241m.\u001b[39mtask_cmd[\u001b[38;5;124m\"\u001b[39m\u001b[38;5;124mTASK_SPI_WRITE_READ\u001b[39m\u001b[38;5;124m\"\u001b[39m], ret)\n\u001b[0;32m    895\u001b[0m \u001b[38;5;28;01mif\u001b[39;00m ret \u001b[38;5;241m==\u001b[39m \u001b[38;5;241m0\u001b[39m:\n",
      "File \u001b[1;32mF:\\gitlab\\mxdbg\\src\\mxESP32Debugger\\debugger.py:323\u001b[0m, in \u001b[0;36mDbg.__task_execute\u001b[1;34m(self, cmd, data, massive_mode, **kwargs)\u001b[0m\n\u001b[0;32m    320\u001b[0m \u001b[38;5;28;01mexcept\u001b[39;00m \u001b[38;5;167;01mException\u001b[39;00m \u001b[38;5;28;01mas\u001b[39;00m e:\n\u001b[0;32m    321\u001b[0m     \u001b[38;5;28;01mraise\u001b[39;00m \u001b[38;5;167;01mValueError\u001b[39;00m(\u001b[38;5;124mf\u001b[39m\u001b[38;5;124m\"\u001b[39m\u001b[38;5;124mFailed to write data: \u001b[39m\u001b[38;5;132;01m{\u001b[39;00me\u001b[38;5;132;01m}\u001b[39;00m\u001b[38;5;124m\"\u001b[39m)\n\u001b[1;32m--> 323\u001b[0m read_data \u001b[38;5;241m=\u001b[39m \u001b[38;5;28;43mself\u001b[39;49m\u001b[38;5;241;43m.\u001b[39;49m\u001b[43m__read\u001b[49m\u001b[43m(\u001b[49m\u001b[43mmassive_mode\u001b[49m\u001b[38;5;241;43m=\u001b[39;49m\u001b[43mmassive_mode\u001b[49m\u001b[43m,\u001b[49m\u001b[43m \u001b[49m\u001b[38;5;241;43m*\u001b[39;49m\u001b[38;5;241;43m*\u001b[39;49m\u001b[43mkwargs\u001b[49m\u001b[43m)\u001b[49m\n\u001b[0;32m    325\u001b[0m \u001b[38;5;28;01mif\u001b[39;00m \u001b[38;5;129;01mnot\u001b[39;00m massive_mode:\n\u001b[0;32m    326\u001b[0m     ret, temp_data \u001b[38;5;241m=\u001b[39m \u001b[38;5;28mself\u001b[39m\u001b[38;5;241m.\u001b[39m__data_unpack(cmd, read_data)\n",
      "File \u001b[1;32mF:\\gitlab\\mxdbg\\src\\mxESP32Debugger\\debugger.py:279\u001b[0m, in \u001b[0;36mDbg.__read\u001b[1;34m(self, timeout, massive_mode, debug_mode)\u001b[0m\n\u001b[0;32m    277\u001b[0m \u001b[38;5;28;01mif\u001b[39;00m time\u001b[38;5;241m.\u001b[39mtime() \u001b[38;5;241m-\u001b[39m start_time \u001b[38;5;241m>\u001b[39m timeout:\n\u001b[0;32m    278\u001b[0m     \u001b[38;5;28;01mif\u001b[39;00m \u001b[38;5;28mlen\u001b[39m(data) \u001b[38;5;241m==\u001b[39m \u001b[38;5;241m0\u001b[39m:\n\u001b[1;32m--> 279\u001b[0m         \u001b[38;5;28;01mraise\u001b[39;00m \u001b[38;5;167;01mTimeoutError\u001b[39;00m(\u001b[38;5;124m\"\u001b[39m\u001b[38;5;124mData read timeout. No data received.\u001b[39m\u001b[38;5;124m\"\u001b[39m)\n\u001b[0;32m    280\u001b[0m     \u001b[38;5;28;01melse\u001b[39;00m:\n\u001b[0;32m    281\u001b[0m         \u001b[38;5;66;03m# if debug_mode:\u001b[39;00m\n\u001b[0;32m    282\u001b[0m         \u001b[38;5;66;03m#     logger.error(f\"Data received: {len(data)}\")\u001b[39;00m\n\u001b[0;32m    283\u001b[0m         \u001b[38;5;28;01mraise\u001b[39;00m \u001b[38;5;167;01mTimeoutError\u001b[39;00m(\u001b[38;5;124m\"\u001b[39m\u001b[38;5;124mData read timeout. Data received (\u001b[39m\u001b[38;5;132;01m{}\u001b[39;00m\u001b[38;5;124m): \u001b[39m\u001b[38;5;132;01m{}\u001b[39;00m\u001b[38;5;124m\"\u001b[39m\u001b[38;5;241m.\u001b[39mformat(\u001b[38;5;28mlen\u001b[39m(data), data))\n",
      "\u001b[1;31mTimeoutError\u001b[0m: Data read timeout. No data received."
     ]
    }
   ],
   "source": [
    "ret, data = dev.spi_write_read([], read_size, timeout=5, debug_mode=False)\n",
    "assert ret, \"Read image failed\"\n",
    "\n",
    "with open(\"data_raw.txt\", 'w', encoding='utf-8') as f:\n",
    "    \n",
    "    for i in range(len(data)):\n",
    "        f.write(f\"{data[i]:02X} \")"
   ]
  },
  {
   "cell_type": "code",
   "execution_count": null,
   "metadata": {},
   "outputs": [],
   "source": [
    "with open(\"data_raw_2.txt\", 'r', encoding='utf-8') as f:\n",
    "    # read line\n",
    "    lines = f.readlines()"
   ]
  },
  {
   "cell_type": "code",
   "execution_count": null,
   "metadata": {},
   "outputs": [],
   "source": [
    "line_data = [] # save int data\n",
    "for line in lines:\n",
    "    # print(len(line))\n",
    "    line_temp = line.replace('\\n', '').split(' ')\n",
    "    # print(line_temp)\n",
    "    \n",
    "    single_line_data = []\n",
    "    for i in range(len(line_temp)):\n",
    "        if line_temp[i] != '':\n",
    "            single_line_data.append(int(line_temp[i], 16))\n",
    "    line_data.append(single_line_data)\n",
    "    \n",
    "# check if all line_data[:4] if ff ff ff 02\n",
    "for i in range(4):\n",
    "    if line_data[i][0] != 0xFF or line_data[i][1] != 0xFF or line_data[i][2] != 0xFF or line_data[i][3] != 0x02:\n",
    "        logger.error(f\"line {i} is not start with ff ff ff 02\")\n",
    "        break\n",
    "\n",
    "sorted_data = line_data\n",
    "\n",
    "line_data_image = [sorted_data[i][12:] for i in range(len(sorted_data))]\n",
    "\n",
    "line_data_image_check = []\n",
    "for i, line in enumerate(line_data_image):\n",
    "    if len(line) > 480:\n",
    "        line_data_image_check.append(line[:480])\n",
    "    else:\n",
    "        line_data_image_check.append(line)"
   ]
  },
  {
   "cell_type": "code",
   "execution_count": null,
   "metadata": {},
   "outputs": [],
   "source": [
    "for i in range(len(line_data_image_check)):\n",
    "    \n",
    "    if len(line_data_image_check[i]) !=  240 * 2:\n",
    "        logger.error(f\"line {i} data length is not 320*240*2\")\n",
    "        break"
   ]
  },
  {
   "cell_type": "code",
   "execution_count": null,
   "metadata": {},
   "outputs": [],
   "source": [
    "np_data = np.array(line_data_image_check)"
   ]
  },
  {
   "cell_type": "code",
   "execution_count": null,
   "metadata": {},
   "outputs": [],
   "source": [
    "def rgb565_to_rgb(rgb565):\n",
    "    \"\"\"\n",
    "    将 RGB565 格式转换为 RGB（8-bit）格式。\n",
    "    \n",
    "    参数:\n",
    "    rgb565 -- 一个包含 RGB565 数据的 numpy 数组（uint16 类型）。\n",
    "    \n",
    "    返回:\n",
    "    一个包含 RGB 格式数据的 numpy 数组，数据类型为 uint8。\n",
    "    \"\"\"\n",
    "    # 提取 R, G, B 分量\n",
    "    r = ((rgb565 >> 11) & 0x1F) * (255 // 31)\n",
    "    g = ((rgb565 >> 5) & 0x3F) * (255 // 63)\n",
    "    b = (rgb565 & 0x1F) * (255 // 31)\n",
    "    \n",
    "    # 合并成 RGB 图像\n",
    "    rgb_image = np.stack((r, g, b), axis=-1).astype(np.uint8)\n",
    "    \n",
    "    return rgb_image"
   ]
  },
  {
   "cell_type": "code",
   "execution_count": null,
   "metadata": {},
   "outputs": [],
   "source": [
    "image_data = []\n",
    "for line in np_data:\n",
    "    line_data = []\n",
    "    for i in range(0, len(line), 2):\n",
    "        line_data.append(line[i] << 8 | line[i+1])\n",
    "    image_data.append(line_data)\n",
    "image_data = np.array(image_data).reshape(320, -1)\n",
    "\n",
    "plt.imshow(image_data, cmap='gray', aspect='auto')\n",
    "plt.axis('off')\n",
    "plt.show()\n",
    "\n",
    "image_data = rgb565_to_rgb(image_data)\n",
    "plt.imshow(image_data, cmap='gray', aspect='auto')\n",
    "plt.axis('off')\n",
    "plt.show()"
   ]
  },
  {
   "cell_type": "code",
   "execution_count": null,
   "metadata": {},
   "outputs": [],
   "source": []
  }
 ],
 "metadata": {
  "kernelspec": {
   "display_name": ".venv",
   "language": "python",
   "name": "python3"
  },
  "language_info": {
   "codemirror_mode": {
    "name": "ipython",
    "version": 3
   },
   "file_extension": ".py",
   "mimetype": "text/x-python",
   "name": "python",
   "nbconvert_exporter": "python",
   "pygments_lexer": "ipython3",
   "version": "3.12.2"
  }
 },
 "nbformat": 4,
 "nbformat_minor": 2
}
