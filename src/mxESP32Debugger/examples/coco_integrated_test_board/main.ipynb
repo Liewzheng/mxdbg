{
 "cells": [
  {
   "cell_type": "markdown",
   "id": "2b101929",
   "metadata": {},
   "source": [
    "# Import and Initialize"
   ]
  },
  {
   "cell_type": "code",
   "execution_count": 1,
   "id": "ecb9f16d",
   "metadata": {},
   "outputs": [
    {
     "name": "stderr",
     "output_type": "stream",
     "text": [
      "\u001b[32m2025-05-08 13:10:14.351\u001b[0m | \u001b[1mINFO    \u001b[0m | \u001b[36mmxESP32Debugger.debugger\u001b[0m:\u001b[36mconnect\u001b[0m:\u001b[36m419\u001b[0m - \u001b[1mUsing serial port to connect. Port: COM4\u001b[0m\n",
      "\u001b[32m2025-05-08 13:10:14.352\u001b[0m | \u001b[1mINFO    \u001b[0m | \u001b[36mmxESP32Debugger.debugger\u001b[0m:\u001b[36mconnect\u001b[0m:\u001b[36m424\u001b[0m - \u001b[1mUsing ESP32-S3R8.\u001b[0m\n",
      "\u001b[32m2025-05-08 13:10:14.352\u001b[0m | \u001b[1mINFO    \u001b[0m | \u001b[36mmxESP32Debugger.debugger\u001b[0m:\u001b[36mconnect\u001b[0m:\u001b[36m425\u001b[0m - \u001b[1mEmbedded software version: v1.0\u001b[0m\n",
      "\u001b[32m2025-05-08 13:10:14.353\u001b[0m | \u001b[1mINFO    \u001b[0m | \u001b[36mmxESP32Debugger.debugger\u001b[0m:\u001b[36mconnect\u001b[0m:\u001b[36m426\u001b[0m - \u001b[1mLibrary version: v241210.0.rc3.\u001b[0m\n"
     ]
    }
   ],
   "source": [
    "import sys\n",
    "sys.path.append(r'F:\\gitlab\\mxdbg\\src')\n",
    "from mxESP32Debugger.debugger import Dbg as MXDBG\n",
    "import time\n",
    "import ctypes\n",
    "from tqdm import trange\n",
    "from loguru import logger\n",
    "\n",
    "dev = MXDBG()"
   ]
  },
  {
   "cell_type": "markdown",
   "id": "75b797c0",
   "metadata": {},
   "source": [
    "# I2C Initialize\n",
    "\n",
    "Hardware I2C：\n",
    "- HW_I2C_0: sdio 10 / sclk 11\n",
    "- HW_I2C_1: sdio 41 / sclk 42\n",
    "\n",
    "Soft I2C:\n",
    "- SW_I2C_0: sdio 39 / sclk 40\n",
    "- SW_I2C_1: sdio 37 / sclk 38\n",
    "- SW_I2C_2: sdio 35 / sclk 36\n",
    "- SW_I2C_3: sdio 33 / sclk 34\n",
    "- SW_I2C_4: sdio 1 / sclk 2\n",
    "- SW_I2C_5: sdio 4 / sclk 5\n",
    "- SW_I2C_6: sdio 7 / sclk 8\n",
    "- SW_I2C_7: sdio 17 / sclk 18 # which may be conflict with PWMs' pin definition\n",
    "\n",
    "\n",
    "![The board and the ports](board_and_ports.png)"
   ]
  },
  {
   "cell_type": "code",
   "execution_count": 9,
   "id": "f023d6f0",
   "metadata": {},
   "outputs": [
    {
     "name": "stdout",
     "output_type": "stream",
     "text": [
      "True None\n",
      "True None\n"
     ]
    }
   ],
   "source": [
    "soft_i2c_groups_dict = {\n",
    "    '0': {'sda': 39, 'scl': 40},\n",
    "    '1': {'sda': 37, 'scl': 38},\n",
    "    '2': {'sda': 35, 'scl': 36},\n",
    "    '3': {'sda': 33, 'scl': 34},\n",
    "    '4': {'sda': 1, 'scl': 2},    \n",
    "    '5': {'sda': 4, 'scl': 5},\n",
    "    '6': {'sda': 7, 'scl': 8},\n",
    "}\n",
    "\n",
    "for group, pins in soft_i2c_groups_dict.items():\n",
    "    dev.soft_i2c_config(port=int(group), sda_pin=pins['sda'], scl_pin=pins['scl'], freq=100_000, pullup_enable=False)\n",
    "    \n",
    "ret, data = dev.i2c_config(sda_pin=10, scl_pin=11, freq=400_000, sda_pullup=False, scl_pullup=False, port=0)\n",
    "print(ret, data)\n",
    "ret, data = dev.i2c_config(sda_pin=41, scl_pin=42, freq=100_000, sda_pullup=True, scl_pullup=True, port=1)\n",
    "print(ret, data)"
   ]
  },
  {
   "cell_type": "markdown",
   "id": "ddbfde91",
   "metadata": {},
   "source": [
    "# I2C find slave"
   ]
  },
  {
   "cell_type": "code",
   "execution_count": 3,
   "id": "a975f7a7",
   "metadata": {},
   "outputs": [],
   "source": [
    "# for port in range(7):\n",
    "#     ret, data = dev.soft_i2c_find_slave(port=port)\n",
    "#     logger.info(f\"Soft I2C port {port} find slave: {ret}, {data}\")"
   ]
  },
  {
   "cell_type": "markdown",
   "id": "55f32572",
   "metadata": {},
   "source": [
    "# I2C Write and Read"
   ]
  },
  {
   "cell_type": "code",
   "execution_count": 10,
   "id": "b52d0d68",
   "metadata": {},
   "outputs": [
    {
     "name": "stderr",
     "output_type": "stream",
     "text": [
      "\u001b[32m2025-05-08 13:12:20.713\u001b[0m | \u001b[1mINFO    \u001b[0m | \u001b[36m__main__\u001b[0m:\u001b[36m<module>\u001b[0m:\u001b[36m7\u001b[0m - \u001b[1mSW I2C Port 0 data: 0x0000\u001b[0m\n",
      "\u001b[32m2025-05-08 13:12:20.725\u001b[0m | \u001b[1mINFO    \u001b[0m | \u001b[36m__main__\u001b[0m:\u001b[36m<module>\u001b[0m:\u001b[36m7\u001b[0m - \u001b[1mSW I2C Port 1 data: 0x0000\u001b[0m\n",
      "\u001b[32m2025-05-08 13:12:20.736\u001b[0m | \u001b[1mINFO    \u001b[0m | \u001b[36m__main__\u001b[0m:\u001b[36m<module>\u001b[0m:\u001b[36m7\u001b[0m - \u001b[1mSW I2C Port 2 data: 0x0000\u001b[0m\n",
      "\u001b[32m2025-05-08 13:12:20.748\u001b[0m | \u001b[1mINFO    \u001b[0m | \u001b[36m__main__\u001b[0m:\u001b[36m<module>\u001b[0m:\u001b[36m7\u001b[0m - \u001b[1mSW I2C Port 3 data: 0x0000\u001b[0m\n",
      "\u001b[32m2025-05-08 13:12:20.759\u001b[0m | \u001b[1mINFO    \u001b[0m | \u001b[36m__main__\u001b[0m:\u001b[36m<module>\u001b[0m:\u001b[36m7\u001b[0m - \u001b[1mSW I2C Port 4 data: 0x0000\u001b[0m\n",
      "\u001b[32m2025-05-08 13:12:20.770\u001b[0m | \u001b[1mINFO    \u001b[0m | \u001b[36m__main__\u001b[0m:\u001b[36m<module>\u001b[0m:\u001b[36m7\u001b[0m - \u001b[1mSW I2C Port 5 data: 0x0000\u001b[0m\n",
      "\u001b[32m2025-05-08 13:12:20.782\u001b[0m | \u001b[1mINFO    \u001b[0m | \u001b[36m__main__\u001b[0m:\u001b[36m<module>\u001b[0m:\u001b[36m7\u001b[0m - \u001b[1mSW I2C Port 6 data: 0x0000\u001b[0m\n",
      "\u001b[32m2025-05-08 13:12:21.782\u001b[0m | \u001b[31m\u001b[1mERROR   \u001b[0m | \u001b[36mmxESP32Debugger.debugger\u001b[0m:\u001b[36m__check_ret_code\u001b[0m:\u001b[36m809\u001b[0m - \u001b[31m\u001b[1mError code: 0x01000103, Description: I2C write read failed\u001b[0m\n",
      "\u001b[32m2025-05-08 13:12:21.782\u001b[0m | \u001b[31m\u001b[1mERROR   \u001b[0m | \u001b[36m__main__\u001b[0m:\u001b[36m<module>\u001b[0m:\u001b[36m14\u001b[0m - \u001b[31m\u001b[1mReturn False in HW I2C port 0\u001b[0m\n",
      "\u001b[32m2025-05-08 13:12:21.794\u001b[0m | \u001b[1mINFO    \u001b[0m | \u001b[36m__main__\u001b[0m:\u001b[36m<module>\u001b[0m:\u001b[36m19\u001b[0m - \u001b[1mHW I2C Port 1 data: 0x1800\u001b[0m\n",
      "\u001b[32m2025-05-08 13:12:21.805\u001b[0m | \u001b[1mINFO    \u001b[0m | \u001b[36m__main__\u001b[0m:\u001b[36m<module>\u001b[0m:\u001b[36m26\u001b[0m - \u001b[1mHW I2C Port 1 data: 0xFFFF\u001b[0m\n"
     ]
    }
   ],
   "source": [
    "# software i2c test\n",
    "for port in range(len(soft_i2c_groups_dict)):\n",
    "    ret, data = dev.soft_i2c_write_read(slave_id=0x78, write_list=[0x00], read_length=2, port=port)\n",
    "    if ret is False:\n",
    "        logger.error(\"Return {} in SW I2C port {}\".format(ret, port))\n",
    "        continue\n",
    "    logger.info(\"SW I2C Port {} data: 0x{:04X}\".format(port, data[0] << 8 | data[1]))\n",
    "\n",
    "# hardware i2c test (port 0)\n",
    "ret, data = dev.i2c_write_read(slave_id=0x78, write_list=[0x00], read_length=2, port=0)\n",
    "if ret != False:\n",
    "    logger.info(\"HW I2C Port 0 data: 0x{:04X}\".format(data[0] << 8 | data[1]))\n",
    "else:\n",
    "    logger.error(\"Return {} in HW I2C port {}\".format(ret, 0))\n",
    "\n",
    "# hardware i2c test (port 1)\n",
    "ret, data = dev.i2c_write_read(slave_id=0x38, write_list=[0x00], read_length=2, port=1)\n",
    "if ret != False:\n",
    "    logger.info(\"HW I2C Port 1 data: 0x{:04X}\".format(data[0] << 8 | data[1]))\n",
    "else:\n",
    "    logger.error(\"Return {} in HW I2C port {}\".format(ret, 1))\n",
    "    \n",
    "# hardware i2c test (port 1, different slave id)\n",
    "ret, data = dev.i2c_write_read(slave_id=0x5D, write_list=[0x00], read_length=2, port=1)\n",
    "if ret != False:\n",
    "    logger.info(\"HW I2C Port 1 data: 0x{:04X}\".format(data[0] << 8 | data[1]))\n",
    "else:\n",
    "    logger.error(\"Return {} in HW I2C port {}\".format(ret, 1))"
   ]
  },
  {
   "cell_type": "code",
   "execution_count": 5,
   "id": "4fb94fd9",
   "metadata": {},
   "outputs": [
    {
     "data": {
      "text/plain": [
       "(True, ['0x38', '0x5D'])"
      ]
     },
     "execution_count": 5,
     "metadata": {},
     "output_type": "execute_result"
    }
   ],
   "source": [
    "dev.i2c_find_slave(port=1)"
   ]
  },
  {
   "cell_type": "markdown",
   "id": "5751fcba",
   "metadata": {},
   "source": [
    "# Coco"
   ]
  },
  {
   "cell_type": "code",
   "execution_count": null,
   "id": "1893f49a",
   "metadata": {},
   "outputs": [],
   "source": [
    "\n",
    "def coco_get_value(i2c_port_num:int):\n",
    "    \n",
    "    \"\"\"\n",
    "    @brief Get COCO value from COCO sensor\n",
    "    @return: COCO value, temperature value\n",
    "    \"\"\"\n",
    "    \n",
    "    coco_addr = 0x78\n",
    "    \n",
    "    if i2c_port_num not in range(8):\n",
    "        raise ValueError(\"Invalid I2C port. Choose from 'soft_i2c_0' to 'soft_i2c_6' or 'i2c_0'.\")\n",
    "    \n",
    "    if i2c_port_num < 7:\n",
    "        I2C_WRITE_READ_API = dev.soft_i2c_write_read\n",
    "        port = i2c_port_num\n",
    "    else:\n",
    "        I2C_WRITE_READ_API = dev.i2c_write_read\n",
    "        port = 0\n",
    "    \n",
    "    def check_status(status):\n",
    "        \n",
    "        '''\n",
    "        @brief Check COCO status\n",
    "        @param status: COCO status byte\n",
    "        '''\n",
    "        power_indication = True if status & 0x40 else False\n",
    "        busy_indication = True if status & 0x20 else False\n",
    "        cmd_enable = True if status & 0x08 else False\n",
    "        flag_memory_integrity = True if status & 0x04 else False\n",
    "\n",
    "        # logger.debug(f'power_indication: {power_indication}')\n",
    "        # logger.debug(f'busy_indication: {busy_indication}')\n",
    "        # print(f'cmd_enable: {cmd_enable}')\n",
    "        # print(f'flag_memory_integrity: {flag_memory_integrity}')\n",
    "\n",
    "        return power_indication, busy_indication, cmd_enable, flag_memory_integrity\n",
    "\n",
    "    ret, data = I2C_WRITE_READ_API(slave_id=coco_addr, \n",
    "                                   write_list=[0xA3, 0xC7, 0x00],\n",
    "                                   read_length=0,\n",
    "                                   port=port)\n",
    "    assert ret == True, \"Failed to write to COCO\"\n",
    "    # print(ret, data)\n",
    "\n",
    "    while True:\n",
    "        ret, data = I2C_WRITE_READ_API(slave_id=coco_addr,\n",
    "                                       write_list=[],\n",
    "                                       read_length=1,\n",
    "                                       port=port)\n",
    "        time.sleep(0.001)\n",
    "\n",
    "        _, busy_indication, _, _ = check_status(data[0])\n",
    "\n",
    "        if busy_indication == False:\n",
    "            break\n",
    "\n",
    "    ret, data = I2C_WRITE_READ_API(slave_id=coco_addr, \n",
    "                                   write_list=[], \n",
    "                                   read_length=6,\n",
    "                                   port=port)\n",
    "    assert ret == True, \"Failed to read from COCO\"\n",
    "\n",
    "    bridge_data = data[1] << 16 | data[2] << 8 | data[3]\n",
    "    if bridge_data & 0x800000:\n",
    "        bridge_data |= 0xFF000000\n",
    "        bridge_data = ctypes.c_int32(bridge_data).value\n",
    "    # logger.info(f'bridge_data: {bridge_data}')\n",
    "\n",
    "    temperature = data[4] << 8 | data[5]\n",
    "    # logger.info(f'temperature: {temperature}')\n",
    "\n",
    "    return bridge_data, temperature"
   ]
  },
  {
   "cell_type": "code",
   "execution_count": null,
   "id": "faf58e2e",
   "metadata": {},
   "outputs": [],
   "source": [
    "for port in range(8):\n",
    "    print(coco_get_value(i2c_port_num=port))"
   ]
  },
  {
   "cell_type": "markdown",
   "id": "2ab53bd8",
   "metadata": {},
   "source": [
    "![](./Circuit.png)\n",
    "$$\n",
    "R_1 = R_3 = R_4 = 27.000K\\Omega \\\\\n",
    "R_2 = 20.000K\\Omega\n",
    "$$\n",
    "\n",
    "另，$R_5$ 和 $R_6$ 合并为 $R_x$。"
   ]
  },
  {
   "cell_type": "code",
   "execution_count": null,
   "id": "9d5d59d2",
   "metadata": {},
   "outputs": [],
   "source": [
    "import pandas as pd\n",
    "import numpy as np\n",
    "import matplotlib.pyplot as plt\n",
    "\n",
    "df = pd.read_csv('resistance.csv')\n",
    "x = df['R_x(Ω)'].values\n",
    "y = df['Raw'].values\n",
    "\n",
    "coefficients = np.polyfit(x, y, 2)\n",
    "a,b,c = coefficients\n",
    "logger.info(f\"拟合公式：y = {a:.4f}x² + {b:.4f}x + {c:.4f}\")\n",
    "\n",
    "x_fit = np.linspace(min(x), max(x), 500)\n",
    "y_fit = np.polyval(coefficients, x_fit)\n",
    "\n",
    "y_fit_actual = np.polyval(coefficients, x)\n",
    "residuals = y - y_fit_actual\n",
    "residuals_squared = residuals ** 2\n",
    "ss = np.sum(residuals_squared)\n",
    "mse = np.mean(residuals_squared)\n",
    "rmse = np.sqrt(mse)\n",
    "logger.info(f\"RMSE: {rmse:.4f}\")\n",
    "logger.info(f\"R²: {1 - (ss / np.sum((y - np.mean(y)) ** 2)):.4f}\")\n",
    "\n",
    "plt.figure(figsize=(10, 6))\n",
    "plt.scatter(x, y, label='Data', color='blue')\n",
    "plt.plot(x_fit, y_fit, \n",
    "         label=f'Fitted Curve (y = {a:.4f}x² + {b:.4f}x + {c:.4f})',\n",
    "         color='red')\n",
    "plt.xlabel('R_x(Ω)')\n",
    "plt.ylabel('Raw')\n",
    "plt.title('Curve Fitting')\n",
    "plt.legend()\n",
    "plt.grid()\n",
    "plt.show()\n"
   ]
  },
  {
   "cell_type": "markdown",
   "id": "20781692",
   "metadata": {},
   "source": [
    "# AHT10"
   ]
  },
  {
   "cell_type": "code",
   "execution_count": null,
   "id": "150300b5",
   "metadata": {},
   "outputs": [],
   "source": [
    "\n",
    "ret, _ = dev.i2c_write_read(slave_id=0x38, write_list=[0xE1], read_length=0, port=1)\n",
    "if ret == False:\n",
    "    logger.error(\"Return {} in HW I2C port {}\".format(ret, 1))\n",
    "\n",
    "time.sleep(1)\n",
    "\n",
    "ret, _ = dev.i2c_write_read(slave_id=0x38, write_list=[0xBA], read_length=0, port=1)\n",
    "if ret == False:\n",
    "    logger.error(\"Return {} in HW I2C port {}\".format(ret, 1))\n",
    "    \n",
    "time.sleep(1)\n",
    "\n",
    "for i in range(10):\n",
    "    \n",
    "    ret, _ = dev.i2c_write_read(slave_id=0x38, write_list=[0xAC, 0x33, 0x00], read_length=0, port=1)\n",
    "    \n",
    "    time.sleep(200/1000) # You have to wait 200ms for the sensor to be ready\n",
    "    if ret == False:\n",
    "        logger.error(\"Return {} in HW I2C port {}\".format(ret, 1))\n",
    "    \n",
    "    ret, data = dev.i2c_write_read(slave_id=0x38, write_list=[], read_length=6, port=1)\n",
    "    if ret != False:\n",
    "        # humadity\n",
    "        humidity_raw = 0\n",
    "        humidity_raw = (humidity_raw | data[1]) << 8\n",
    "        humidity_raw = (humidity_raw | data[2]) << 8\n",
    "        humidity_raw = (humidity_raw | data[3])\n",
    "        humidity_raw = humidity_raw >> 4\n",
    "        \n",
    "        # temperature\n",
    "        temp_raw = 0\n",
    "        temp_raw = (temp_raw | data[3]) << 8\n",
    "        temp_raw = (temp_raw | data[4]) << 8\n",
    "        temp_raw = (temp_raw | data[5])\n",
    "        temp_raw = temp_raw & 0x0FFFFF;\n",
    "        \n",
    "        humidity = humidity_raw * 100  / 1024 / 1024    \n",
    "        temperature = (temp_raw * 200 * 10 / 1024 / 1024 - 500) / 10\n",
    "        logger.info(\"{:.2f}%RH, {:.2f}℃\".format(humidity, temperature))\n",
    "        \n",
    "    else:\n",
    "        logger.error(\"Return {} in HW I2C port {}\".format(ret, 1))\n",
    "        \n",
    "    time.sleep(1)"
   ]
  },
  {
   "cell_type": "markdown",
   "id": "31482206",
   "metadata": {},
   "source": [
    "# SFA30"
   ]
  },
  {
   "cell_type": "code",
   "execution_count": 6,
   "id": "f66bf740",
   "metadata": {},
   "outputs": [],
   "source": [
    "def cal_crc(data:list[int]):\n",
    "    \"\"\"\n",
    "    @brief Calculate CRC8 checksum for a list of data bytes.\n",
    "    @param data: List of data bytes to calculate CRC for.\n",
    "    @return: Calculated CRC8 checksum.\n",
    "    \"\"\"\n",
    "    crc = 0xFF\n",
    "    for byte in data:\n",
    "        crc ^= byte\n",
    "        for _ in range(8):\n",
    "            if crc & 0x80:\n",
    "                crc = (crc << 1) ^ 0x31\n",
    "            else:\n",
    "                crc <<= 1\n",
    "            crc &= 0xFF\n",
    "    return crc"
   ]
  },
  {
   "cell_type": "code",
   "execution_count": 7,
   "id": "e518b4c0",
   "metadata": {},
   "outputs": [],
   "source": [
    "def cal_formula(val:int, average:float, smoothing_factor:float=0.0167) -> float:\n",
    "    return smoothing_factor * val + (1.0 - smoothing_factor) * average"
   ]
  },
  {
   "cell_type": "code",
   "execution_count": 11,
   "id": "e3a41eeb",
   "metadata": {},
   "outputs": [
    {
     "name": "stderr",
     "output_type": "stream",
     "text": [
      "waiting for sensor to be ready: 100%|██████████| 10/10 [00:10<00:00,  1.00s/it]\n",
      "\u001b[32m2025-05-08 13:12:37.228\u001b[0m | \u001b[1mINFO    \u001b[0m | \u001b[36m__main__\u001b[0m:\u001b[36m<module>\u001b[0m:\u001b[36m62\u001b[0m - \u001b[1mTemperature: 26.34°C, Formaldehyde: 315.00ppb, Humidity: 53.57%\u001b[0m\n",
      "\u001b[32m2025-05-08 13:12:38.651\u001b[0m | \u001b[1mINFO    \u001b[0m | \u001b[36m__main__\u001b[0m:\u001b[36m<module>\u001b[0m:\u001b[36m62\u001b[0m - \u001b[1mTemperature: 26.18°C, Formaldehyde: 362.80ppb, Humidity: 53.78%\u001b[0m\n",
      "\u001b[32m2025-05-08 13:12:40.075\u001b[0m | \u001b[1mINFO    \u001b[0m | \u001b[36m__main__\u001b[0m:\u001b[36m<module>\u001b[0m:\u001b[36m62\u001b[0m - \u001b[1mTemperature: 26.16°C, Formaldehyde: 362.80ppb, Humidity: 53.77%\u001b[0m\n",
      "\u001b[32m2025-05-08 13:12:41.499\u001b[0m | \u001b[1mINFO    \u001b[0m | \u001b[36m__main__\u001b[0m:\u001b[36m<module>\u001b[0m:\u001b[36m62\u001b[0m - \u001b[1mTemperature: 26.14°C, Formaldehyde: 362.80ppb, Humidity: 53.79%\u001b[0m\n",
      "\u001b[32m2025-05-08 13:12:42.922\u001b[0m | \u001b[1mINFO    \u001b[0m | \u001b[36m__main__\u001b[0m:\u001b[36m<module>\u001b[0m:\u001b[36m62\u001b[0m - \u001b[1mTemperature: 26.11°C, Formaldehyde: 362.80ppb, Humidity: 53.80%\u001b[0m\n",
      "\u001b[32m2025-05-08 13:12:44.345\u001b[0m | \u001b[1mINFO    \u001b[0m | \u001b[36m__main__\u001b[0m:\u001b[36m<module>\u001b[0m:\u001b[36m62\u001b[0m - \u001b[1mTemperature: 26.11°C, Formaldehyde: 362.80ppb, Humidity: 53.83%\u001b[0m\n",
      "\u001b[32m2025-05-08 13:12:45.767\u001b[0m | \u001b[1mINFO    \u001b[0m | \u001b[36m__main__\u001b[0m:\u001b[36m<module>\u001b[0m:\u001b[36m62\u001b[0m - \u001b[1mTemperature: 26.12°C, Formaldehyde: 362.80ppb, Humidity: 53.88%\u001b[0m\n",
      "\u001b[32m2025-05-08 13:12:47.189\u001b[0m | \u001b[1mINFO    \u001b[0m | \u001b[36m__main__\u001b[0m:\u001b[36m<module>\u001b[0m:\u001b[36m62\u001b[0m - \u001b[1mTemperature: 26.11°C, Formaldehyde: 362.80ppb, Humidity: 53.96%\u001b[0m\n",
      "\u001b[32m2025-05-08 13:12:48.613\u001b[0m | \u001b[1mINFO    \u001b[0m | \u001b[36m__main__\u001b[0m:\u001b[36m<module>\u001b[0m:\u001b[36m62\u001b[0m - \u001b[1mTemperature: 26.07°C, Formaldehyde: 362.80ppb, Humidity: 53.99%\u001b[0m\n",
      "\u001b[32m2025-05-08 13:12:50.035\u001b[0m | \u001b[1mINFO    \u001b[0m | \u001b[36m__main__\u001b[0m:\u001b[36m<module>\u001b[0m:\u001b[36m62\u001b[0m - \u001b[1mTemperature: 26.09°C, Formaldehyde: 362.80ppb, Humidity: 54.03%\u001b[0m\n",
      "\u001b[32m2025-05-08 13:12:51.458\u001b[0m | \u001b[1mINFO    \u001b[0m | \u001b[36m__main__\u001b[0m:\u001b[36m<module>\u001b[0m:\u001b[36m62\u001b[0m - \u001b[1mTemperature: 26.07°C, Formaldehyde: 362.80ppb, Humidity: 54.05%\u001b[0m\n",
      "\u001b[32m2025-05-08 13:12:52.880\u001b[0m | \u001b[1mINFO    \u001b[0m | \u001b[36m__main__\u001b[0m:\u001b[36m<module>\u001b[0m:\u001b[36m62\u001b[0m - \u001b[1mTemperature: 26.05°C, Formaldehyde: 362.80ppb, Humidity: 54.09%\u001b[0m\n",
      "\u001b[32m2025-05-08 13:12:54.303\u001b[0m | \u001b[1mINFO    \u001b[0m | \u001b[36m__main__\u001b[0m:\u001b[36m<module>\u001b[0m:\u001b[36m62\u001b[0m - \u001b[1mTemperature: 26.07°C, Formaldehyde: 420.80ppb, Humidity: 54.13%\u001b[0m\n",
      "\u001b[32m2025-05-08 13:12:55.725\u001b[0m | \u001b[1mINFO    \u001b[0m | \u001b[36m__main__\u001b[0m:\u001b[36m<module>\u001b[0m:\u001b[36m62\u001b[0m - \u001b[1mTemperature: 26.05°C, Formaldehyde: 420.80ppb, Humidity: 54.33%\u001b[0m\n",
      "\u001b[32m2025-05-08 13:12:57.147\u001b[0m | \u001b[1mINFO    \u001b[0m | \u001b[36m__main__\u001b[0m:\u001b[36m<module>\u001b[0m:\u001b[36m62\u001b[0m - \u001b[1mTemperature: 26.05°C, Formaldehyde: 420.80ppb, Humidity: 54.45%\u001b[0m\n",
      "\u001b[32m2025-05-08 13:12:58.570\u001b[0m | \u001b[1mINFO    \u001b[0m | \u001b[36m__main__\u001b[0m:\u001b[36m<module>\u001b[0m:\u001b[36m62\u001b[0m - \u001b[1mTemperature: 26.07°C, Formaldehyde: 420.80ppb, Humidity: 54.44%\u001b[0m\n",
      "\u001b[32m2025-05-08 13:12:59.992\u001b[0m | \u001b[1mINFO    \u001b[0m | \u001b[36m__main__\u001b[0m:\u001b[36m<module>\u001b[0m:\u001b[36m62\u001b[0m - \u001b[1mTemperature: 26.03°C, Formaldehyde: 420.80ppb, Humidity: 54.37%\u001b[0m\n",
      "\u001b[32m2025-05-08 13:13:01.415\u001b[0m | \u001b[1mINFO    \u001b[0m | \u001b[36m__main__\u001b[0m:\u001b[36m<module>\u001b[0m:\u001b[36m62\u001b[0m - \u001b[1mTemperature: 26.04°C, Formaldehyde: 420.80ppb, Humidity: 54.31%\u001b[0m\n",
      "\u001b[32m2025-05-08 13:13:02.837\u001b[0m | \u001b[1mINFO    \u001b[0m | \u001b[36m__main__\u001b[0m:\u001b[36m<module>\u001b[0m:\u001b[36m62\u001b[0m - \u001b[1mTemperature: 26.04°C, Formaldehyde: 420.80ppb, Humidity: 54.27%\u001b[0m\n",
      "\u001b[32m2025-05-08 13:13:04.260\u001b[0m | \u001b[1mINFO    \u001b[0m | \u001b[36m__main__\u001b[0m:\u001b[36m<module>\u001b[0m:\u001b[36m62\u001b[0m - \u001b[1mTemperature: 26.04°C, Formaldehyde: 420.80ppb, Humidity: 54.27%\u001b[0m\n",
      "\u001b[32m2025-05-08 13:13:05.676\u001b[0m | \u001b[1mINFO    \u001b[0m | \u001b[36m__main__\u001b[0m:\u001b[36m<module>\u001b[0m:\u001b[36m62\u001b[0m - \u001b[1mTemperature: 26.05°C, Formaldehyde: 420.80ppb, Humidity: 54.25%\u001b[0m\n",
      "\u001b[32m2025-05-08 13:13:07.099\u001b[0m | \u001b[1mINFO    \u001b[0m | \u001b[36m__main__\u001b[0m:\u001b[36m<module>\u001b[0m:\u001b[36m62\u001b[0m - \u001b[1mTemperature: 26.02°C, Formaldehyde: 420.80ppb, Humidity: 54.23%\u001b[0m\n",
      "\u001b[32m2025-05-08 13:13:08.522\u001b[0m | \u001b[1mINFO    \u001b[0m | \u001b[36m__main__\u001b[0m:\u001b[36m<module>\u001b[0m:\u001b[36m62\u001b[0m - \u001b[1mTemperature: 26.03°C, Formaldehyde: 420.80ppb, Humidity: 54.21%\u001b[0m\n",
      "\u001b[32m2025-05-08 13:13:09.946\u001b[0m | \u001b[1mINFO    \u001b[0m | \u001b[36m__main__\u001b[0m:\u001b[36m<module>\u001b[0m:\u001b[36m62\u001b[0m - \u001b[1mTemperature: 26.03°C, Formaldehyde: 420.80ppb, Humidity: 54.22%\u001b[0m\n",
      "\u001b[32m2025-05-08 13:13:11.368\u001b[0m | \u001b[1mINFO    \u001b[0m | \u001b[36m__main__\u001b[0m:\u001b[36m<module>\u001b[0m:\u001b[36m62\u001b[0m - \u001b[1mTemperature: 26.02°C, Formaldehyde: 420.80ppb, Humidity: 54.22%\u001b[0m\n",
      "\u001b[32m2025-05-08 13:13:12.792\u001b[0m | \u001b[1mINFO    \u001b[0m | \u001b[36m__main__\u001b[0m:\u001b[36m<module>\u001b[0m:\u001b[36m62\u001b[0m - \u001b[1mTemperature: 26.01°C, Formaldehyde: 420.80ppb, Humidity: 54.24%\u001b[0m\n",
      "\u001b[32m2025-05-08 13:13:14.214\u001b[0m | \u001b[1mINFO    \u001b[0m | \u001b[36m__main__\u001b[0m:\u001b[36m<module>\u001b[0m:\u001b[36m62\u001b[0m - \u001b[1mTemperature: 26.02°C, Formaldehyde: 420.80ppb, Humidity: 54.27%\u001b[0m\n",
      "\u001b[32m2025-05-08 13:13:15.637\u001b[0m | \u001b[1mINFO    \u001b[0m | \u001b[36m__main__\u001b[0m:\u001b[36m<module>\u001b[0m:\u001b[36m62\u001b[0m - \u001b[1mTemperature: 26.01°C, Formaldehyde: 420.80ppb, Humidity: 54.27%\u001b[0m\n",
      "\u001b[32m2025-05-08 13:13:17.060\u001b[0m | \u001b[1mINFO    \u001b[0m | \u001b[36m__main__\u001b[0m:\u001b[36m<module>\u001b[0m:\u001b[36m62\u001b[0m - \u001b[1mTemperature: 26.02°C, Formaldehyde: 420.80ppb, Humidity: 54.33%\u001b[0m\n",
      "\u001b[32m2025-05-08 13:13:18.484\u001b[0m | \u001b[1mINFO    \u001b[0m | \u001b[36m__main__\u001b[0m:\u001b[36m<module>\u001b[0m:\u001b[36m62\u001b[0m - \u001b[1mTemperature: 26.00°C, Formaldehyde: 420.80ppb, Humidity: 54.42%\u001b[0m\n",
      "\u001b[32m2025-05-08 13:13:19.906\u001b[0m | \u001b[1mINFO    \u001b[0m | \u001b[36m__main__\u001b[0m:\u001b[36m<module>\u001b[0m:\u001b[36m62\u001b[0m - \u001b[1mTemperature: 26.02°C, Formaldehyde: 420.80ppb, Humidity: 54.46%\u001b[0m\n",
      "\u001b[32m2025-05-08 13:13:21.330\u001b[0m | \u001b[1mINFO    \u001b[0m | \u001b[36m__main__\u001b[0m:\u001b[36m<module>\u001b[0m:\u001b[36m62\u001b[0m - \u001b[1mTemperature: 26.02°C, Formaldehyde: 420.80ppb, Humidity: 54.49%\u001b[0m\n",
      "\u001b[32m2025-05-08 13:13:22.753\u001b[0m | \u001b[1mINFO    \u001b[0m | \u001b[36m__main__\u001b[0m:\u001b[36m<module>\u001b[0m:\u001b[36m62\u001b[0m - \u001b[1mTemperature: 26.00°C, Formaldehyde: 420.80ppb, Humidity: 54.57%\u001b[0m\n",
      "\u001b[32m2025-05-08 13:13:24.176\u001b[0m | \u001b[1mINFO    \u001b[0m | \u001b[36m__main__\u001b[0m:\u001b[36m<module>\u001b[0m:\u001b[36m62\u001b[0m - \u001b[1mTemperature: 26.00°C, Formaldehyde: 420.80ppb, Humidity: 54.60%\u001b[0m\n",
      "\u001b[32m2025-05-08 13:13:25.598\u001b[0m | \u001b[1mINFO    \u001b[0m | \u001b[36m__main__\u001b[0m:\u001b[36m<module>\u001b[0m:\u001b[36m62\u001b[0m - \u001b[1mTemperature: 26.00°C, Formaldehyde: 420.80ppb, Humidity: 54.58%\u001b[0m\n"
     ]
    },
    {
     "ename": "NameError",
     "evalue": "name 'np' is not defined",
     "output_type": "error",
     "traceback": [
      "\u001b[1;31m---------------------------------------------------------------------------\u001b[0m",
      "\u001b[1;31mNameError\u001b[0m                                 Traceback (most recent call last)",
      "Cell \u001b[1;32mIn[11], line 58\u001b[0m\n\u001b[0;32m     55\u001b[0m     humidity_raw\u001b[38;5;241m.\u001b[39mappend(humidity)\n\u001b[0;32m     57\u001b[0m \u001b[38;5;28;01melse\u001b[39;00m:\n\u001b[1;32m---> 58\u001b[0m     temperature_raw\u001b[38;5;241m.\u001b[39mappend(cal_formula(temperature, \u001b[43mnp\u001b[49m\u001b[38;5;241m.\u001b[39mmean(temperature_raw)))\n\u001b[0;32m     59\u001b[0m     formaldehyde_raw\u001b[38;5;241m.\u001b[39mappend(cal_formula(formaldhyde, np\u001b[38;5;241m.\u001b[39mmean(formaldehyde_raw)))\n\u001b[0;32m     60\u001b[0m     humidity_raw\u001b[38;5;241m.\u001b[39mappend(cal_formula(humidity, np\u001b[38;5;241m.\u001b[39mmean(humidity_raw)))\n",
      "\u001b[1;31mNameError\u001b[0m: name 'np' is not defined"
     ]
    }
   ],
   "source": [
    "start_time = time.time()\n",
    "\n",
    "formaldehyde_raw = []\n",
    "temperature_raw = []\n",
    "humidity_raw = []\n",
    "\n",
    "# 1. test crc\n",
    "if cal_crc([0xBE, 0xEF]) != 0x92:\n",
    "    logger.error(\"CRC error: {} != {}\".format(cal_crc(data), 0x92))\n",
    "    raise ValueError(\"CRC error\")\n",
    "\n",
    "# 2. Wait for sensor to be ready\n",
    "for i in trange(10, desc=\"waiting for sensor to be ready\"):\n",
    "    time.sleep(1)\n",
    "    \n",
    "# 3. Send measure command to sensor\n",
    "ret, _ = dev.i2c_write_read(slave_id=0x5D, write_list=[0x00, 0x06], read_length=0, port=1)\n",
    "if ret == False:\n",
    "    logger.error(\"Return {} in HW I2C port {}\".format(ret, 1))\n",
    "    raise ValueError(\"Failed to start measurement\")\n",
    "\n",
    "time.sleep(500/1000)\n",
    "\n",
    "# 4. Read data from sensor\n",
    "for i in range(1000):\n",
    "    \n",
    "    first_60sec = True if ((time.time() - start_time) < 60) else False\n",
    "    \n",
    "    ret, _ = dev.i2c_write_read(slave_id=0x5D, write_list=[0x03, 0x27], read_length=0, port=1)\n",
    "    if ret == False:\n",
    "        logger.error(\"Return {} in HW I2C port {}\".format(ret, 1))\n",
    "        \n",
    "    ret, data = dev.i2c_write_read(slave_id=0x5D, write_list=[], read_length=9, port=1)\n",
    "    # if data != None:\n",
    "    #     logger.debug(\"Data: {}\".format(\"\".join([\"0x{:02X}, \".format(i) for i in data])))\n",
    "    if ret != False:\n",
    "        \n",
    "        # 验证 CRC\n",
    "        for i in range(9):\n",
    "            if (i != 0) and ((i+1) % 3 == 0):\n",
    "                data_crc = [data[i - 2], data[i - 1]]\n",
    "                crc = cal_crc(data_crc)\n",
    "                if crc != data[i]:\n",
    "                    logger.error(\"CRC error: {} != {}\".format(crc, data[i]))\n",
    "                    break\n",
    "    \n",
    "        # 数据导出\n",
    "        temperature = (data[6] << 8) | data[7]\n",
    "        formaldhyde = (data[1] << 8) | data[2]\n",
    "        humidity    = (data[3] << 8) | data[4]\n",
    "        \n",
    "        if first_60sec:\n",
    "            temperature_raw.append(temperature)\n",
    "            formaldehyde_raw.append(formaldhyde)\n",
    "            humidity_raw.append(humidity)\n",
    "            \n",
    "        else:\n",
    "            temperature_raw.append(cal_formula(temperature, np.mean(temperature_raw)))\n",
    "            formaldehyde_raw.append(cal_formula(formaldhyde, np.mean(formaldehyde_raw)))\n",
    "            humidity_raw.append(cal_formula(humidity, np.mean(humidity_raw)))\n",
    "            \n",
    "        logger.info(\"Temperature: {:.2f}°C, Formaldehyde: {:.2f}ppb, Humidity: {:.2f}%\".format(\n",
    "            temperature_raw[-1] / 200, formaldehyde_raw[-1] / 5, humidity_raw[-1] / 100))\n",
    "    \n",
    "    else:\n",
    "        logger.error(\"Return {} in HW I2C port {}\".format(ret, 1))\n",
    "        \n",
    "    time.sleep(1400/1000)"
   ]
  },
  {
   "cell_type": "code",
   "execution_count": null,
   "id": "678d982a",
   "metadata": {},
   "outputs": [],
   "source": []
  }
 ],
 "metadata": {
  "kernelspec": {
   "display_name": "py311",
   "language": "python",
   "name": "python3"
  },
  "language_info": {
   "codemirror_mode": {
    "name": "ipython",
    "version": 3
   },
   "file_extension": ".py",
   "mimetype": "text/x-python",
   "name": "python",
   "nbconvert_exporter": "python",
   "pygments_lexer": "ipython3",
   "version": "3.11.5"
  }
 },
 "nbformat": 4,
 "nbformat_minor": 5
}
