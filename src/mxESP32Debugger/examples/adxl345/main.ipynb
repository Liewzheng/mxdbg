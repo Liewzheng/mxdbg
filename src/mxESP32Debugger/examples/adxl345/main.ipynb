{
 "cells": [
  {
   "cell_type": "code",
   "execution_count": null,
   "id": "bd7a05d7",
   "metadata": {},
   "outputs": [],
   "source": [
    "import sys\n",
    "sys.path.append(r'F:\\gitlab\\mxdbg\\src')\n",
    "from mxESP32Debugger.debugger import Dbg as MXDBG\n",
    "\n",
    "import time\n",
    "import ctypes\n",
    "\n",
    "import toml\n",
    "from tqdm import trange\n",
    "from loguru import logger"
   ]
  },
  {
   "cell_type": "markdown",
   "id": "e7e92696",
   "metadata": {},
   "source": [
    "# Init MXDBG"
   ]
  },
  {
   "cell_type": "code",
   "execution_count": null,
   "id": "1efa8af2",
   "metadata": {},
   "outputs": [],
   "source": [
    "dev = MXDBG()\n",
    "dev.power_init()\n",
    "dev.power_control(communication_type=\"I2C\", power_type=\"3V3\")\n",
    "\n",
    "ret, data = dev.i2c_config(sda_pin=10, scl_pin=11, freq=400000, sda_pullup=True, scl_pullup=True)\n",
    "print(ret, data)"
   ]
  },
  {
   "cell_type": "markdown",
   "id": "f1f66afa",
   "metadata": {},
   "source": [
    "# Read configuration files"
   ]
  },
  {
   "cell_type": "code",
   "execution_count": null,
   "id": "86efc5ee",
   "metadata": {},
   "outputs": [],
   "source": [
    "with open(\"adxl345.toml\", \"r\") as f:\n",
    "    config = toml.load(f)\n",
    "    \n",
    "reg_list = config['register_list']\n",
    "slave_addr = config['address']"
   ]
  },
  {
   "cell_type": "markdown",
   "id": "5f640f8d",
   "metadata": {},
   "source": [
    "# Init Sensor"
   ]
  },
  {
   "cell_type": "code",
   "execution_count": null,
   "id": "d7d5b11e",
   "metadata": {},
   "outputs": [],
   "source": [
    "ret, data = dev.i2c_write_read(port=0, slave_id=slave_addr, write_list=[0x00], read_length=1)\n",
    "assert data[0] == 0xE5, f\"Expected 0xE5, got {data[0]:#04x}\""
   ]
  },
  {
   "cell_type": "code",
   "execution_count": null,
   "id": "e9eed3b9",
   "metadata": {},
   "outputs": [],
   "source": [
    "for reg in reg_list:\n",
    "    ret, data = dev.i2c_write_read(port=0, slave_id=slave_addr, write_list=reg, read_length=0)\n",
    "    assert ret == True, f\"Failed to write register {reg:#04x}\""
   ]
  },
  {
   "cell_type": "markdown",
   "id": "9fdfa728",
   "metadata": {},
   "source": [
    "# Read gravity data"
   ]
  },
  {
   "cell_type": "code",
   "execution_count": null,
   "id": "3478e1b9",
   "metadata": {},
   "outputs": [],
   "source": [
    "def get_gravity_data(slave_addr):\n",
    "    ret, data = dev.i2c_write_read(port=0, slave_id=slave_addr, write_list=[0x32], read_length=6)\n",
    "    if ret != True:\n",
    "        print(\"Error reading data\")\n",
    "        return None\n",
    "\n",
    "    data = bytearray(data)\n",
    "\n",
    "    x = ctypes.c_int16.from_buffer_copy(data[0:2]).value * 3.9\n",
    "    y = ctypes.c_int16.from_buffer_copy(data[2:4]).value * 3.9\n",
    "    z = ctypes.c_int16.from_buffer_copy(data[4:6]).value * 3.9\n",
    "\n",
    "    return x, y, z"
   ]
  },
  {
   "cell_type": "code",
   "execution_count": null,
   "id": "b25e5b63",
   "metadata": {},
   "outputs": [],
   "source": [
    "while True:\n",
    "    x, y, z = get_gravity_data(slave_addr=slave_addr)\n",
    "    print(\"{:.2f}\\t{:.2f}\\t{:.2f}\\r\".format(x, y, z), end=\"\")"
   ]
  },
  {
   "cell_type": "code",
   "execution_count": null,
   "id": "7ca88444",
   "metadata": {},
   "outputs": [],
   "source": []
  }
 ],
 "metadata": {
  "kernelspec": {
   "display_name": "py311",
   "language": "python",
   "name": "python3"
  },
  "language_info": {
   "codemirror_mode": {
    "name": "ipython",
    "version": 3
   },
   "file_extension": ".py",
   "mimetype": "text/x-python",
   "name": "python",
   "nbconvert_exporter": "python",
   "pygments_lexer": "ipython3",
   "version": "3.11.5"
  }
 },
 "nbformat": 4,
 "nbformat_minor": 5
}
