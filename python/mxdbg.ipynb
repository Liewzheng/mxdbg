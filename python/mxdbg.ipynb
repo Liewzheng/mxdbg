{
 "cells": [
  {
   "cell_type": "markdown",
   "metadata": {},
   "source": [
    "# Initialization"
   ]
  },
  {
   "cell_type": "code",
   "execution_count": null,
   "metadata": {},
   "outputs": [],
   "source": [
    "from mxdbg import MXDBG\n",
    "from loguru import logger\n",
    "import time\n",
    "\n",
    "dev = MXDBG()"
   ]
  },
  {
   "cell_type": "markdown",
   "metadata": {},
   "source": [
    "# I2C Write and Read"
   ]
  },
  {
   "cell_type": "code",
   "execution_count": null,
   "metadata": {},
   "outputs": [],
   "source": [
    "power_address = 0x20  # including LDP (P00 ~ P07) / VDD (P10 ~ P17)\n",
    "mot_address = 0x18\n",
    "i2c_address = 0x70\n",
    "ots_address = 0x74\n",
    "\n",
    "callisto_register_list = [\n",
    "    \n",
    "    # basic settings\n",
    "    [0x09, 0x5A],\n",
    "    [0x3C, 0xAC],\n",
    "    [0x09, 0xA5],\n",
    "    [0x6D, 0x39],\n",
    "    [0x19, 0x04],\n",
    "    [0x0D, 0x20, 0x20],\n",
    "\n",
    "    # advanced settings\n",
    "    [0x3E, 0x71],\n",
    "    [0x48, 0xFF],\n",
    "    [0x1F, 0xFF],\n",
    "    [0x73, 0x10],\n",
    "\n",
    "    [0x68, 0x7F, 0x84],\n",
    "    [0x7D, 0x60],\n",
    "    # [0x7E, 0x00],\n",
    "    [0x60, 0x00],\n",
    "    [0x6E, 0x37],\n",
    "    [0x3F, 0x01],\n",
    "    [0x52, 0x2E],\n",
    "    [0x3F, 0x00],\n",
    "    [0x0B, 0x70],\n",
    "    [0x05, 0xBC],\n",
    "]"
   ]
  },
  {
   "cell_type": "code",
   "execution_count": null,
   "metadata": {},
   "outputs": [],
   "source": [
    "ret, data = dev.i2c_write_read(0x74, [0x06, 0x91], 0)\n",
    "print(ret, data)\n",
    "\n",
    "for reg in callisto_register_list:\n",
    "    ret, data = dev.i2c_write_read(0x74, reg, 0)\n",
    "ret, data = dev.i2c_write_read(0x74, [0x00], 2)\n",
    "print(ret, data)"
   ]
  },
  {
   "cell_type": "markdown",
   "metadata": {},
   "source": [
    "# I2C Configuration"
   ]
  },
  {
   "cell_type": "code",
   "execution_count": null,
   "metadata": {},
   "outputs": [],
   "source": [
    "ret, data = dev.i2c_config(sda_pin=42, scl_pin=41, freq=400000, sda_pullup=True, scl_pullup=True)\n",
    "print(ret, data)"
   ]
  },
  {
   "cell_type": "markdown",
   "metadata": {},
   "source": [
    "# GPIO Configuration"
   ]
  },
  {
   "cell_type": "code",
   "execution_count": null,
   "metadata": {},
   "outputs": [],
   "source": [
    "ret = dev.gpio_config(pin=18,\n",
    "                    mode=dev.gpio_mode[\"GPIO_MODE_OUTPUT\"],\n",
    "                    pull_up=1,\n",
    "                    pull_down=0)\n",
    "print(ret)"
   ]
  },
  {
   "cell_type": "markdown",
   "metadata": {},
   "source": [
    "# GPIO write and read"
   ]
  },
  {
   "cell_type": "code",
   "execution_count": null,
   "metadata": {},
   "outputs": [],
   "source": [
    "for _ in range(50):\n",
    "    ret, data = dev.gpio_write_read(18, 1)\n",
    "    print(ret, data)\n",
    "    time.sleep(1)\n",
    "    ret, data = dev.gpio_write_read(18, 0)\n",
    "    print(ret, data)\n",
    "    time.sleep(1)"
   ]
  },
  {
   "cell_type": "markdown",
   "metadata": {},
   "source": [
    "# PWM run and stop"
   ]
  },
  {
   "cell_type": "code",
   "execution_count": null,
   "metadata": {},
   "outputs": [],
   "source": [
    "ret, data = dev.pwm_run_stop(True)\n",
    "print(ret, data)"
   ]
  },
  {
   "cell_type": "code",
   "execution_count": null,
   "metadata": {},
   "outputs": [],
   "source": [
    "ret, data = dev.pwm_run_stop(False)\n",
    "print(ret, data)"
   ]
  },
  {
   "cell_type": "markdown",
   "metadata": {},
   "source": [
    "# PWM Configuration"
   ]
  },
  {
   "cell_type": "code",
   "execution_count": null,
   "metadata": {},
   "outputs": [],
   "source": [
    "ret, data = dev.pwm_config(17, 10000, 0.5, 8000000)\n",
    "print(ret, data)"
   ]
  },
  {
   "cell_type": "markdown",
   "metadata": {},
   "source": [
    "# SPI write and read\n",
    "## 3WIRE HALF DUPLEX SPI"
   ]
  },
  {
   "cell_type": "code",
   "execution_count": null,
   "metadata": {},
   "outputs": [],
   "source": [
    "for _ in range(100):\n",
    "    ret, data = dev.spi_write_read([0x01], 1)\n",
    "    assert data[0] == 0x59, \"read_error\""
   ]
  },
  {
   "cell_type": "markdown",
   "metadata": {},
   "source": [
    "## 4WIRE FULL DUPLEX SPI"
   ]
  },
  {
   "cell_type": "code",
   "execution_count": null,
   "metadata": {},
   "outputs": [],
   "source": [
    "ret, data = dev.spi_write_read([0x00, 0x00], 2)\n",
    "print(ret, data)\n",
    "ret, data = dev.spi_write_read([0x01, 0x00], 2)\n",
    "print(ret, data)"
   ]
  },
  {
   "cell_type": "markdown",
   "metadata": {},
   "source": [
    "# SPI Configuration\n",
    "## 3WIRE HALF DUPLEX SPI"
   ]
  },
  {
   "cell_type": "code",
   "execution_count": null,
   "metadata": {},
   "outputs": [],
   "source": [
    "ret, data = dev.spi_config(freq=1000000,\n",
    "                           miso_io_num=-1,\n",
    "                           cs_ena_pretrans=1,\n",
    "                           cs_ena_posttrans=1,\n",
    "                           device_interface_flags=(dev.spi_device[\"SPI_DEVICE_HALFDUPLEX\"] | dev.spi_device[\"SPI_DEVICE_3WIRE\"])\n",
    "                           )\n",
    "print(ret, data)"
   ]
  },
  {
   "cell_type": "markdown",
   "metadata": {},
   "source": [
    "# Power Control"
   ]
  },
  {
   "cell_type": "code",
   "execution_count": null,
   "metadata": {},
   "outputs": [],
   "source": [
    "dev.power_init()"
   ]
  },
  {
   "cell_type": "code",
   "execution_count": null,
   "metadata": {},
   "outputs": [],
   "source": [
    "dev.power_control(communication_type=\"I2C\", power_type=\"0V\")"
   ]
  },
  {
   "cell_type": "code",
   "execution_count": null,
   "metadata": {},
   "outputs": [],
   "source": [
    "dev.power_control(communication_type=\"SPI\", power_type=\"0V\")"
   ]
  },
  {
   "cell_type": "code",
   "execution_count": null,
   "metadata": {},
   "outputs": [],
   "source": [
    "dev.power_control(communication_type=\"I2C\", power_type=\"1V8\")"
   ]
  },
  {
   "cell_type": "code",
   "execution_count": null,
   "metadata": {},
   "outputs": [],
   "source": [
    "dev.power_control(communication_type=\"I2C\", power_type=\"1V2\")"
   ]
  },
  {
   "cell_type": "code",
   "execution_count": null,
   "metadata": {},
   "outputs": [],
   "source": [
    "dev.power_control(communication_type=\"SPI\", power_type=\"1V2\")"
   ]
  },
  {
   "cell_type": "code",
   "execution_count": null,
   "metadata": {},
   "outputs": [],
   "source": [
    "dev.power_control(communication_type=\"SPI\", power_type=\"1V8\")"
   ]
  },
  {
   "cell_type": "markdown",
   "metadata": {},
   "source": [
    "# Expand IO Write and Read\n",
    "\n",
    "**How to use it?**: \n",
    "1. If you wanna use expand io, use `expand_io_init()` to initialize the expand io first. Or if you use `power_control_init()` before, ignore this step.\n",
    "2. Use `expand_io_config()` to configure the expand io as input or output.\n",
    "\n",
    "**NOTE**:\n",
    "1. `IO0` (the rightest pin in `J4`) is in open-drain mode in default."
   ]
  },
  {
   "cell_type": "code",
   "execution_count": null,
   "metadata": {},
   "outputs": [],
   "source": [
    "dev.expand_io_init()"
   ]
  },
  {
   "cell_type": "code",
   "execution_count": null,
   "metadata": {},
   "outputs": [],
   "source": [
    "dev.expand_io_write_read(7)"
   ]
  },
  {
   "cell_type": "code",
   "execution_count": null,
   "metadata": {},
   "outputs": [],
   "source": [
    "dev.expand_io_config(7, 0)"
   ]
  },
  {
   "cell_type": "code",
   "execution_count": null,
   "metadata": {},
   "outputs": [],
   "source": [
    "dev.expand_io_write_read(7, 1)"
   ]
  },
  {
   "cell_type": "code",
   "execution_count": null,
   "metadata": {},
   "outputs": [],
   "source": [
    "dev.expand_io_write_read(7)"
   ]
  }
 ],
 "metadata": {
  "kernelspec": {
   "display_name": "base",
   "language": "python",
   "name": "python3"
  },
  "language_info": {
   "codemirror_mode": {
    "name": "ipython",
    "version": 3
   },
   "file_extension": ".py",
   "mimetype": "text/x-python",
   "name": "python",
   "nbconvert_exporter": "python",
   "pygments_lexer": "ipython3",
   "version": "3.9.12"
  }
 },
 "nbformat": 4,
 "nbformat_minor": 2
}
