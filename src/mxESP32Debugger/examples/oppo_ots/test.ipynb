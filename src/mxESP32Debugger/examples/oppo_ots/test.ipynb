{
 "cells": [
  {
   "cell_type": "markdown",
   "metadata": {},
   "source": [
    "# Background\n",
    "\n",
    "详见 [F:\\OPPO_华勤_OTS\\record.md](F:/OPPO_华勤_OTS/record.md)"
   ]
  },
  {
   "cell_type": "code",
   "execution_count": 1,
   "metadata": {},
   "outputs": [],
   "source": [
    "from mxESP32Debugger.debugger import Dbg\n",
    "from tqdm import trange\n",
    "import time\n",
    "import toml\n",
    "from loguru import logger"
   ]
  },
  {
   "cell_type": "code",
   "execution_count": 2,
   "metadata": {},
   "outputs": [
    {
     "name": "stderr",
     "output_type": "stream",
     "text": [
      "\u001b[32m2024-12-23 20:37:41.790\u001b[0m | \u001b[1mINFO    \u001b[0m | \u001b[36mmxESP32Debugger.debugger\u001b[0m:\u001b[36mconnect\u001b[0m:\u001b[36m248\u001b[0m - \u001b[1mUsing serial port to connect. Port: COM17\u001b[0m\n",
      "\u001b[32m2024-12-23 20:37:41.791\u001b[0m | \u001b[1mINFO    \u001b[0m | \u001b[36mmxESP32Debugger.debugger\u001b[0m:\u001b[36mconnect\u001b[0m:\u001b[36m253\u001b[0m - \u001b[1mUsing ESP32-S3R8.\u001b[0m\n",
      "\u001b[32m2024-12-23 20:37:41.791\u001b[0m | \u001b[1mINFO    \u001b[0m | \u001b[36mmxESP32Debugger.debugger\u001b[0m:\u001b[36mconnect\u001b[0m:\u001b[36m254\u001b[0m - \u001b[1mEmbedded software version: v1.0\u001b[0m\n",
      "\u001b[32m2024-12-23 20:37:41.792\u001b[0m | \u001b[1mINFO    \u001b[0m | \u001b[36mmxESP32Debugger.debugger\u001b[0m:\u001b[36mconnect\u001b[0m:\u001b[36m255\u001b[0m - \u001b[1mLibrary version: v241210.0.rc3.\u001b[0m\n",
      "\u001b[32m2024-12-23 20:37:41.814\u001b[0m | \u001b[1mINFO    \u001b[0m | \u001b[36mmxESP32Debugger.debugger\u001b[0m:\u001b[36mget_extboard_version\u001b[0m:\u001b[36m1659\u001b[0m - \u001b[1mExtension board version: v0.1\u001b[0m\n"
     ]
    },
    {
     "data": {
      "text/plain": [
       "(True, None)"
      ]
     },
     "execution_count": 2,
     "metadata": {},
     "output_type": "execute_result"
    }
   ],
   "source": [
    "dev = Dbg()\n",
    "dev.power_init()\n",
    "dev.usb_config()"
   ]
  },
  {
   "cell_type": "markdown",
   "metadata": {},
   "source": [
    "# Configure"
   ]
  },
  {
   "cell_type": "code",
   "execution_count": 3,
   "metadata": {},
   "outputs": [],
   "source": [
    "config = toml.load('./mot6016_1.toml')\n",
    "\n",
    "reg_list_1 = config['init']['reg_list_1']\n",
    "reg_list_2 = config['init']['reg_list_2']\n",
    "reg_list_check = config['init']['check']\n",
    "\n",
    "def ots_init():\n",
    "    for reg in reg_list_1:\n",
    "        ret, data = dev.i2c_write_read(0x74, reg, 0)\n",
    "        if ret is False:\n",
    "            logger.error(f'Write {reg} failed.')\n",
    "            return False\n",
    "    \n",
    "    ret, data = dev.i2c_write_read(0x74, [0x00], 2)\n",
    "    if ret == False:\n",
    "        logger.error(\"Failed to read chipid\")\n",
    "        return False\n",
    "    \n",
    "    chipid = data[0] << 8 | data[1]\n",
    "    if chipid != 0x585B:\n",
    "        logger.error(f\"Failed to read chipid: {chipid}\")\n",
    "        return False\n",
    "    \n",
    "    for reg in reg_list_2:\n",
    "        ret, data = dev.i2c_write_read(0x74, reg, 0)\n",
    "        if ret is False:\n",
    "            logger.error(f'Write {reg} failed.')\n",
    "            return False\n",
    "        \n",
    "    for index, reg in enumerate(reg_list_check):\n",
    "        ret, data = dev.i2c_write_read(0x74, [reg[0]], 1)\n",
    "        if ret is False:\n",
    "            logger.error(f'Read 0x{reg[0]:02X} failed.')\n",
    "            return False\n",
    "        \n",
    "        if data[0] != reg[1]:\n",
    "            logger.error(f\"Failed to read {reg}\")\n",
    "            return False\n",
    "        \n",
    "    return True"
   ]
  },
  {
   "cell_type": "code",
   "execution_count": 4,
   "metadata": {},
   "outputs": [
    {
     "data": {
      "text/plain": [
       "(True, None)"
      ]
     },
     "execution_count": 4,
     "metadata": {},
     "output_type": "execute_result"
    }
   ],
   "source": [
    "LDO_EN_PIN_1 = 39\n",
    "LDO_EN_PIN_2 = 38\n",
    "ERROR_TRIGGER_PIN = 36\n",
    "LDO_EN_PIN_3 = 37\n",
    "\n",
    "VDD_PIN = LDO_EN_PIN_1\n",
    "I2C_PIN = LDO_EN_PIN_2\n",
    "LDP_PIN = LDO_EN_PIN_3\n",
    "dev.gpio_config(pin=VDD_PIN, mode=0x02, pull_down=True, pull_up=False)\n",
    "dev.gpio_config(pin=I2C_PIN, mode=0x02, pull_down=True, pull_up=False)\n",
    "dev.gpio_config(pin=LDP_PIN, mode=0x02, pull_down=True, pull_up=False)\n",
    "dev.gpio_config(pin=ERROR_TRIGGER_PIN, mode=0x02, pull_down=True, pull_up=False)\n",
    "dev.gpio_write_read(pin=VDD_PIN, level=0)\n",
    "dev.gpio_write_read(pin=I2C_PIN, level=0)\n",
    "dev.gpio_write_read(pin=LDP_PIN, level=0)\n",
    "dev.gpio_write_read(pin=ERROR_TRIGGER_PIN, level=0)"
   ]
  },
  {
   "cell_type": "code",
   "execution_count": null,
   "metadata": {},
   "outputs": [
    {
     "name": "stderr",
     "output_type": "stream",
     "text": [
      "Power ON/OFF Test:   0%|          | 89/50000 [17:27<163:14:21, 11.77s/it]"
     ]
    }
   ],
   "source": [
    "failed_times = 0\n",
    "\n",
    "dev.gpio_write_read(pin=VDD_PIN, level=1)  # VDD3 / AVDD \n",
    "\n",
    "for i in trange(50000, desc='Power ON/OFF Test'):\n",
    "    dev.gpio_write_read(ERROR_TRIGGER_PIN, 0)\n",
    "    \n",
    "    dev.gpio_write_read(pin=LDP_PIN, level=1)  # VLD\n",
    "    dev.gpio_write_read(pin=VDD_PIN, level=1)  # VDD3 / AVDD \n",
    "    time.sleep(100/1000)\n",
    "    \n",
    "    dev.gpio_write_read(pin=LDP_PIN, level=0)  # VLD\n",
    "    time.sleep(165/1000)\n",
    "    dev.gpio_write_read(pin=VDD_PIN, level=0)  # VDD3 / AVDD \n",
    "    dev.gpio_write_read(pin=VDD_PIN, level=1)  # VDD3 / AVDD \n",
    "    \n",
    "    time.sleep(11)\n",
    "    dev.gpio_write_read(pin=LDP_PIN, level=1)  # VLD\n",
    "    time.sleep(20/1000)\n",
    "    ret, data = dev.i2c_write_read(0x74, [0x00], 1)\n",
    "    assert data[0] == 0x30, \"no 0x74 device found\"\n",
    "    \n",
    "    ret, data = dev.i2c_write_read(0x74, [0x00], 2)\n",
    "    if ret is False:\n",
    "        logger.error(\"try to read 0x00 register failed.\")\n",
    "        dev.gpio_write_read(ERROR_TRIGGER_PIN, 1)\n",
    "    else:\n",
    "        if data[0] not in [0x30, 0x58]:\n",
    "            logger.error(f\"read 0x00 for 0x30 failed. 0x{data[0]:02X}\")\n",
    "            dev.gpio_write_read(ERROR_TRIGGER_PIN, 1)\n",
    "        else:\n",
    "            dev.i2c_write_read(0x74, [0x06, 0x17], 0)  # Exit PD\n",
    "            \n",
    "            # ret, data = dev.i2c_write_read(0x74, [0x00], 1)\n",
    "            # assert data[0] == 0x30, f'Read data 0x{data[0]:02X} from 0x00 failed. ({i})'\n",
    "            if ots_init() is False:\n",
    "                dev.gpio_write_read(ERROR_TRIGGER_PIN, 1)\n",
    "                failed_times += 1\n",
    "                \n",
    "            dev.i2c_write_read(0x74, [0x06, 0x1F], 0)  # Enter PD\n",
    "    "
   ]
  },
  {
   "cell_type": "code",
   "execution_count": null,
   "metadata": {},
   "outputs": [],
   "source": []
  }
 ],
 "metadata": {
  "kernelspec": {
   "display_name": ".venv",
   "language": "python",
   "name": "python3"
  },
  "language_info": {
   "codemirror_mode": {
    "name": "ipython",
    "version": 3
   },
   "file_extension": ".py",
   "mimetype": "text/x-python",
   "name": "python",
   "nbconvert_exporter": "python",
   "pygments_lexer": "ipython3",
   "version": "3.12.2"
  }
 },
 "nbformat": 4,
 "nbformat_minor": 2
}
