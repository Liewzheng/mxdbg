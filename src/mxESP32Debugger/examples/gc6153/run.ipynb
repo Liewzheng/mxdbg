{
 "cells": [
  {
   "cell_type": "code",
   "execution_count": 1,
   "metadata": {},
   "outputs": [],
   "source": [
    "from mxESP32Debugger.debugger import Dbg\n",
    "import time\n",
    "import toml\n",
    "import numpy as np\n",
    "from loguru import logger"
   ]
  },
  {
   "cell_type": "code",
   "execution_count": 2,
   "metadata": {},
   "outputs": [],
   "source": [
    "with open(\"gc6153.toml\", 'r', encoding='utf-8') as f:\n",
    "    config = toml.load(f)\n",
    "    \n",
    "init_reg_list = config['init']['reg_list']\n",
    "mode_reg_list = config['mode']['reg_list']"
   ]
  },
  {
   "cell_type": "code",
   "execution_count": 3,
   "metadata": {},
   "outputs": [
    {
     "name": "stderr",
     "output_type": "stream",
     "text": [
      "\u001b[32m2025-02-14 18:11:22.973\u001b[0m | \u001b[1mINFO    \u001b[0m | \u001b[36mmxESP32Debugger.debugger\u001b[0m:\u001b[36mconnect\u001b[0m:\u001b[36m248\u001b[0m - \u001b[1mUsing serial port to connect. Port: COM4\u001b[0m\n",
      "\u001b[32m2025-02-14 18:11:22.974\u001b[0m | \u001b[1mINFO    \u001b[0m | \u001b[36mmxESP32Debugger.debugger\u001b[0m:\u001b[36mconnect\u001b[0m:\u001b[36m253\u001b[0m - \u001b[1mUsing ESP32-S3R8.\u001b[0m\n",
      "\u001b[32m2025-02-14 18:11:22.974\u001b[0m | \u001b[1mINFO    \u001b[0m | \u001b[36mmxESP32Debugger.debugger\u001b[0m:\u001b[36mconnect\u001b[0m:\u001b[36m254\u001b[0m - \u001b[1mEmbedded software version: v1.0\u001b[0m\n",
      "\u001b[32m2025-02-14 18:11:22.975\u001b[0m | \u001b[1mINFO    \u001b[0m | \u001b[36mmxESP32Debugger.debugger\u001b[0m:\u001b[36mconnect\u001b[0m:\u001b[36m255\u001b[0m - \u001b[1mLibrary version: v241210.0.rc3.\u001b[0m\n",
      "\u001b[32m2025-02-14 18:11:23.018\u001b[0m | \u001b[1mINFO    \u001b[0m | \u001b[36mmxESP32Debugger.debugger\u001b[0m:\u001b[36mget_extboard_version\u001b[0m:\u001b[36m1652\u001b[0m - \u001b[1mI2C config for extension board.\u001b[0m\n",
      "\u001b[32m2025-02-14 18:11:23.040\u001b[0m | \u001b[1mINFO    \u001b[0m | \u001b[36mmxESP32Debugger.debugger\u001b[0m:\u001b[36mget_extboard_version\u001b[0m:\u001b[36m1669\u001b[0m - \u001b[1mExtension board version: v0.2.1\u001b[0m\n"
     ]
    },
    {
     "data": {
      "text/plain": [
       "True"
      ]
     },
     "execution_count": 3,
     "metadata": {},
     "output_type": "execute_result"
    }
   ],
   "source": [
    "dev = Dbg()\n",
    "dev.usb_config(False)\n",
    "dev.power_init()"
   ]
  },
  {
   "cell_type": "code",
   "execution_count": 4,
   "metadata": {},
   "outputs": [
    {
     "data": {
      "text/plain": [
       "(True, None)"
      ]
     },
     "execution_count": 4,
     "metadata": {},
     "output_type": "execute_result"
    }
   ],
   "source": [
    "dev.i2c_config(sda_pullup=False, scl_pullup=False, freq=400_000)"
   ]
  },
  {
   "cell_type": "code",
   "execution_count": 5,
   "metadata": {},
   "outputs": [
    {
     "data": {
      "text/plain": [
       "True"
      ]
     },
     "execution_count": 5,
     "metadata": {},
     "output_type": "execute_result"
    }
   ],
   "source": [
    "dev.power_control(\"I2C\", \"3v3\")\n",
    "dev.power_control(\"SPI\", \"3v3\")"
   ]
  },
  {
   "cell_type": "code",
   "execution_count": 6,
   "metadata": {},
   "outputs": [
    {
     "data": {
      "text/plain": [
       "(True, None)"
      ]
     },
     "execution_count": 6,
     "metadata": {},
     "output_type": "execute_result"
    }
   ],
   "source": [
    "pdn_pin = 39\n",
    "mclk_en_pin = 40\n",
    "dev.gpio_config(pin=pdn_pin, mode=0x02, pull_up=True, pull_down=False)\n",
    "dev.gpio_config(pin=mclk_en_pin, mode=0x02, pull_up=True, pull_down=False)\n",
    "dev.gpio_write_read(pin=mclk_en_pin, level=1)"
   ]
  },
  {
   "cell_type": "code",
   "execution_count": 7,
   "metadata": {},
   "outputs": [
    {
     "data": {
      "text/plain": [
       "(True, None)"
      ]
     },
     "execution_count": 7,
     "metadata": {},
     "output_type": "execute_result"
    }
   ],
   "source": [
    "time.sleep(100/1000)\n",
    "dev.gpio_write_read(pin=pdn_pin, level=1)\n",
    "time.sleep(10/1000)\n",
    "dev.gpio_write_read(pin=pdn_pin, level=0)\n",
    "time.sleep(10/1000)\n",
    "dev.gpio_write_read(pin=pdn_pin, level=1)\n",
    "time.sleep(10/1000)\n",
    "dev.gpio_write_read(pin=pdn_pin, level=0)"
   ]
  },
  {
   "cell_type": "code",
   "execution_count": 8,
   "metadata": {},
   "outputs": [
    {
     "name": "stderr",
     "output_type": "stream",
     "text": [
      "\u001b[32m2025-02-14 18:11:23.429\u001b[0m | \u001b[1mINFO    \u001b[0m | \u001b[36m__main__\u001b[0m:\u001b[36m<module>\u001b[0m:\u001b[36m3\u001b[0m - \u001b[1mchipid: 0x6153\u001b[0m\n"
     ]
    }
   ],
   "source": [
    "ret, chipid = dev.i2c_write_read(0x40, [0xf0], 2)\n",
    "assert ret, \"I2C read chipid failed\"\n",
    "logger.info(\"chipid: 0x{:04X}\", (chipid[0] << 8) | chipid[1])"
   ]
  },
  {
   "cell_type": "code",
   "execution_count": 9,
   "metadata": {},
   "outputs": [],
   "source": [
    "for reg in init_reg_list:\n",
    "    ret, _ = dev.i2c_write_read(slave_id=0x40, write_list=reg, read_length=0)\n",
    "    assert ret, \"I2C write init reg list error\"\n",
    "for reg in mode_reg_list:\n",
    "    ret, _ = dev.i2c_write_read(slave_id=0x40, write_list=reg, read_length=0)\n",
    "    assert ret, \"I2C write mode reg list error\"\n",
    "    "
   ]
  },
  {
   "cell_type": "code",
   "execution_count": 10,
   "metadata": {},
   "outputs": [
    {
     "data": {
      "text/plain": [
       "(True, None)"
      ]
     },
     "execution_count": 10,
     "metadata": {},
     "output_type": "execute_result"
    }
   ],
   "source": [
    "# configure spi as slave mode\n",
    "dev.spi_config(miso_io_num=12, mosi_io_num=13, sclk_io_num=14, cs_io_num=15, mode=0, master_slave_mode=1)"
   ]
  },
  {
   "cell_type": "code",
   "execution_count": 11,
   "metadata": {},
   "outputs": [
    {
     "name": "stderr",
     "output_type": "stream",
     "text": [
      "\u001b[32m2025-02-14 18:11:24.909\u001b[0m | \u001b[31m\u001b[1mERROR   \u001b[0m | \u001b[36mmxESP32Debugger.debugger\u001b[0m:\u001b[36m__check_ret_code\u001b[0m:\u001b[36m591\u001b[0m - \u001b[31m\u001b[1mError code: 0x01000504, Description: SPI transaction failed\u001b[0m\n"
     ]
    }
   ],
   "source": [
    "ret, data = dev.spi_write_read([], 320*240, timeout=10)"
   ]
  },
  {
   "cell_type": "code",
   "execution_count": null,
   "metadata": {},
   "outputs": [],
   "source": []
  }
 ],
 "metadata": {
  "kernelspec": {
   "display_name": ".venv",
   "language": "python",
   "name": "python3"
  },
  "language_info": {
   "codemirror_mode": {
    "name": "ipython",
    "version": 3
   },
   "file_extension": ".py",
   "mimetype": "text/x-python",
   "name": "python",
   "nbconvert_exporter": "python",
   "pygments_lexer": "ipython3",
   "version": "3.12.2"
  }
 },
 "nbformat": 4,
 "nbformat_minor": 2
}
