{
 "cells": [
  {
   "cell_type": "markdown",
   "id": "2b101929",
   "metadata": {},
   "source": [
    "# Import and Initialize"
   ]
  },
  {
   "cell_type": "code",
   "execution_count": 1,
   "id": "ecb9f16d",
   "metadata": {},
   "outputs": [
    {
     "name": "stderr",
     "output_type": "stream",
     "text": [
      "\u001b[32m2025-04-10 16:56:29.861\u001b[0m | \u001b[1mINFO    \u001b[0m | \u001b[36mmxESP32Debugger.debugger\u001b[0m:\u001b[36mconnect\u001b[0m:\u001b[36m419\u001b[0m - \u001b[1mUsing serial port to connect. Port: COM4\u001b[0m\n",
      "\u001b[32m2025-04-10 16:56:29.862\u001b[0m | \u001b[1mINFO    \u001b[0m | \u001b[36mmxESP32Debugger.debugger\u001b[0m:\u001b[36mconnect\u001b[0m:\u001b[36m424\u001b[0m - \u001b[1mUsing ESP32-S3R8.\u001b[0m\n",
      "\u001b[32m2025-04-10 16:56:29.863\u001b[0m | \u001b[1mINFO    \u001b[0m | \u001b[36mmxESP32Debugger.debugger\u001b[0m:\u001b[36mconnect\u001b[0m:\u001b[36m425\u001b[0m - \u001b[1mEmbedded software version: v1.0\u001b[0m\n",
      "\u001b[32m2025-04-10 16:56:29.863\u001b[0m | \u001b[1mINFO    \u001b[0m | \u001b[36mmxESP32Debugger.debugger\u001b[0m:\u001b[36mconnect\u001b[0m:\u001b[36m426\u001b[0m - \u001b[1mLibrary version: v241210.0.rc3.\u001b[0m\n"
     ]
    }
   ],
   "source": [
    "from mxESP32Debugger.debugger import Dbg as MXDBG\n",
    "import time\n",
    "from tqdm import trange\n",
    "from loguru import logger\n",
    "\n",
    "dev = MXDBG()"
   ]
  },
  {
   "cell_type": "markdown",
   "id": "75b797c0",
   "metadata": {},
   "source": [
    "# I2C Initialize\n",
    "\n",
    "Hardware I2C：\n",
    "- HW_I2C_0: sdio 10 / sclk 11\n",
    "- HW_I2C_1: sdio 41 / sclk 42\n",
    "\n",
    "Soft I2C:\n",
    "- SW_I2C_0: sdio 39 / sclk 40\n",
    "- SW_I2C_1: sdio 37 / sclk 38\n",
    "- SW_I2C_2: sdio 35 / sclk 36\n",
    "- SW_I2C_3: sdio 33 / sclk 34\n",
    "- SW_I2C_4: sdio 1 / sclk 2\n",
    "- SW_I2C_5: sdio 4 / sclk 5\n",
    "- SW_I2C_6: sdio 7 / sclk 8\n",
    "- SW_I2C_7: sdio 17 / sclk 18 # which may be conflict with PWMs' pin definition\n",
    "\n",
    "\n",
    "![The board and the ports](board_and_ports.png)"
   ]
  },
  {
   "cell_type": "code",
   "execution_count": 2,
   "id": "f023d6f0",
   "metadata": {},
   "outputs": [
    {
     "name": "stdout",
     "output_type": "stream",
     "text": [
      "True None\n",
      "True None\n"
     ]
    }
   ],
   "source": [
    "soft_i2c_groups_dict = {\n",
    "    '0': {'sda': 39, 'scl': 40},\n",
    "    '1': {'sda': 37, 'scl': 38},\n",
    "    '2': {'sda': 35, 'scl': 36},\n",
    "    '3': {'sda': 33, 'scl': 34},\n",
    "    '4': {'sda': 1, 'scl': 2},    \n",
    "    '5': {'sda': 4, 'scl': 5},\n",
    "    '6': {'sda': 7, 'scl': 8},\n",
    "}\n",
    "\n",
    "for group, pins in soft_i2c_groups_dict.items():\n",
    "    dev.soft_i2c_config(port=int(group), sda_pin=pins['sda'], scl_pin=pins['scl'], freq=100_000, pullup_enable=True)\n",
    "    \n",
    "ret, data = dev.i2c_config(sda_pin=10, scl_pin=11, freq=100000, sda_pullup=True, scl_pullup=True, port=0)\n",
    "print(ret, data)\n",
    "ret, data = dev.i2c_config(sda_pin=41, scl_pin=42, freq=100000, sda_pullup=True, scl_pullup=True, port=1)\n",
    "print(ret, data)"
   ]
  },
  {
   "cell_type": "markdown",
   "id": "55f32572",
   "metadata": {},
   "source": [
    "# I2C Write and Read"
   ]
  },
  {
   "cell_type": "code",
   "execution_count": 3,
   "id": "b52d0d68",
   "metadata": {},
   "outputs": [
    {
     "name": "stderr",
     "output_type": "stream",
     "text": [
      "\u001b[32m2025-04-10 16:56:30.245\u001b[0m | \u001b[1mINFO    \u001b[0m | \u001b[36m__main__\u001b[0m:\u001b[36m<module>\u001b[0m:\u001b[36m7\u001b[0m - \u001b[1mSW I2C Port 0 data: 0x0400\u001b[0m\n",
      "\u001b[32m2025-04-10 16:56:30.256\u001b[0m | \u001b[1mINFO    \u001b[0m | \u001b[36m__main__\u001b[0m:\u001b[36m<module>\u001b[0m:\u001b[36m7\u001b[0m - \u001b[1mSW I2C Port 1 data: 0x0400\u001b[0m\n",
      "\u001b[32m2025-04-10 16:56:30.268\u001b[0m | \u001b[1mINFO    \u001b[0m | \u001b[36m__main__\u001b[0m:\u001b[36m<module>\u001b[0m:\u001b[36m7\u001b[0m - \u001b[1mSW I2C Port 2 data: 0x0400\u001b[0m\n",
      "\u001b[32m2025-04-10 16:56:30.280\u001b[0m | \u001b[1mINFO    \u001b[0m | \u001b[36m__main__\u001b[0m:\u001b[36m<module>\u001b[0m:\u001b[36m7\u001b[0m - \u001b[1mSW I2C Port 3 data: 0x0400\u001b[0m\n",
      "\u001b[32m2025-04-10 16:56:30.291\u001b[0m | \u001b[1mINFO    \u001b[0m | \u001b[36m__main__\u001b[0m:\u001b[36m<module>\u001b[0m:\u001b[36m7\u001b[0m - \u001b[1mSW I2C Port 4 data: 0x0400\u001b[0m\n",
      "\u001b[32m2025-04-10 16:56:30.303\u001b[0m | \u001b[1mINFO    \u001b[0m | \u001b[36m__main__\u001b[0m:\u001b[36m<module>\u001b[0m:\u001b[36m7\u001b[0m - \u001b[1mSW I2C Port 5 data: 0x0400\u001b[0m\n",
      "\u001b[32m2025-04-10 16:56:30.314\u001b[0m | \u001b[1mINFO    \u001b[0m | \u001b[36m__main__\u001b[0m:\u001b[36m<module>\u001b[0m:\u001b[36m7\u001b[0m - \u001b[1mSW I2C Port 6 data: 0x0400\u001b[0m\n",
      "\u001b[32m2025-04-10 16:56:30.327\u001b[0m | \u001b[1mINFO    \u001b[0m | \u001b[36m__main__\u001b[0m:\u001b[36m<module>\u001b[0m:\u001b[36m12\u001b[0m - \u001b[1mHW I2C Port 0 data: 0x0400\u001b[0m\n",
      "\u001b[32m2025-04-10 16:56:30.339\u001b[0m | \u001b[1mINFO    \u001b[0m | \u001b[36m__main__\u001b[0m:\u001b[36m<module>\u001b[0m:\u001b[36m19\u001b[0m - \u001b[1mHW I2C Port 1 data: 0x1800\u001b[0m\n",
      "\u001b[32m2025-04-10 16:56:30.350\u001b[0m | \u001b[1mINFO    \u001b[0m | \u001b[36m__main__\u001b[0m:\u001b[36m<module>\u001b[0m:\u001b[36m26\u001b[0m - \u001b[1mHW I2C Port 1 data: 0xFFFF\u001b[0m\n"
     ]
    }
   ],
   "source": [
    "# software i2c test\n",
    "for port in range(len(soft_i2c_groups_dict)):\n",
    "    ret, data = dev.soft_i2c_write_read(slave_id=0x78, write_list=[0x00], read_length=2, port=port)\n",
    "    if ret is False:\n",
    "        logger.error(\"Return {} in SW I2C port {}\".format(ret, port))\n",
    "        continue\n",
    "    logger.info(\"SW I2C Port {} data: 0x{:04X}\".format(port, data[0] << 8 | data[1]))\n",
    "\n",
    "# hardware i2c test (port 0)\n",
    "ret, data = dev.i2c_write_read(slave_id=0x78, write_list=[0x00], read_length=2, port=0)\n",
    "if ret != False:\n",
    "    logger.info(\"HW I2C Port 0 data: 0x{:04X}\".format(data[0] << 8 | data[1]))\n",
    "else:\n",
    "    logger.error(\"Return {} in HW I2C port {}\".format(ret, 0))\n",
    "\n",
    "# hardware i2c test (port 1)\n",
    "ret, data = dev.i2c_write_read(slave_id=0x38, write_list=[0x00], read_length=2, port=1)\n",
    "if ret != False:\n",
    "    logger.info(\"HW I2C Port 1 data: 0x{:04X}\".format(data[0] << 8 | data[1]))\n",
    "else:\n",
    "    logger.error(\"Return {} in HW I2C port {}\".format(ret, 1))\n",
    "    \n",
    "# hardware i2c test (port 1, different slave id)\n",
    "ret, data = dev.i2c_write_read(slave_id=0x5D, write_list=[0x00], read_length=2, port=1)\n",
    "if ret != False:\n",
    "    logger.info(\"HW I2C Port 1 data: 0x{:04X}\".format(data[0] << 8 | data[1]))\n",
    "else:\n",
    "    logger.error(\"Return {} in HW I2C port {}\".format(ret, 1))"
   ]
  },
  {
   "cell_type": "code",
   "execution_count": null,
   "id": "dc2466f5",
   "metadata": {},
   "outputs": [],
   "source": []
  }
 ],
 "metadata": {
  "kernelspec": {
   "display_name": ".venv",
   "language": "python",
   "name": "python3"
  },
  "language_info": {
   "codemirror_mode": {
    "name": "ipython",
    "version": 3
   },
   "file_extension": ".py",
   "mimetype": "text/x-python",
   "name": "python",
   "nbconvert_exporter": "python",
   "pygments_lexer": "ipython3",
   "version": "3.12.2"
  }
 },
 "nbformat": 4,
 "nbformat_minor": 5
}
