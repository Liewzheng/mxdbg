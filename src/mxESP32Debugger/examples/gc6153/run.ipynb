{
 "cells": [
  {
   "cell_type": "code",
   "execution_count": null,
   "metadata": {},
   "outputs": [],
   "source": [
    "from mxESP32Debugger.debugger import Dbg\n",
    "import time\n",
    "import toml\n",
    "import numpy as np                                                                                                      \n",
    "from loguru import logger"
   ]
  },
  {
   "cell_type": "code",
   "execution_count": null,
   "metadata": {},
   "outputs": [],
   "source": [
    "with open(\"gc6153.toml\", 'r', encoding='utf-8') as f:\n",
    "    config = toml.load(f)\n",
    "    \n",
    "init_reg_list = config['init']['reg_list']\n",
    "mode_reg_list = config['mode']['reg_list']"
   ]
  },
  {
   "cell_type": "code",
   "execution_count": null,
   "metadata": {},
   "outputs": [],
   "source": [
    "dev = Dbg()\n",
    "dev.usb_config(False)\n",
    "dev.power_init()"
   ]
  },
  {
   "cell_type": "code",
   "execution_count": null,
   "metadata": {},
   "outputs": [],
   "source": [
    "dev.i2c_config(sda_pullup=False, scl_pullup=False, freq=400_000)"
   ]
  },
  {
   "cell_type": "code",
   "execution_count": null,
   "metadata": {},
   "outputs": [],
   "source": [
    "dev.power_control(\"I2C\", \"3v3\")\n",
    "dev.power_control(\"SPI\", \"3v3\")"
   ]
  },
  {
   "cell_type": "code",
   "execution_count": null,
   "metadata": {},
   "outputs": [],
   "source": [
    "pdn_pin = 39\n",
    "mclk_en_pin = 40\n",
    "dev.gpio_config(pin=pdn_pin, mode=0x02, pull_up=True, pull_down=False)\n",
    "dev.gpio_config(pin=mclk_en_pin, mode=0x02, pull_up=True, pull_down=False)\n",
    "dev.gpio_write_read(pin=mclk_en_pin, level=1)"
   ]
  },
  {
   "cell_type": "code",
   "execution_count": null,
   "metadata": {},
   "outputs": [],
   "source": [
    "time.sleep(100/1000)\n",
    "dev.gpio_write_read(pin=pdn_pin, level=1)\n",
    "time.sleep(10/1000)\n",
    "dev.gpio_write_read(pin=pdn_pin, level=0)\n",
    "time.sleep(10/1000)\n",
    "dev.gpio_write_read(pin=pdn_pin, level=1)\n",
    "time.sleep(10/1000)\n",
    "dev.gpio_write_read(pin=pdn_pin, level=0)"
   ]
  },
  {
   "cell_type": "code",
   "execution_count": null,
   "metadata": {},
   "outputs": [],
   "source": [
    "ret, chipid = dev.i2c_write_read(0x40, [0xf0], 2)\n",
    "assert ret, \"I2C read chipid failed\"\n",
    "logger.info(\"chipid: 0x{:04X}\", (chipid[0] << 8) | chipid[1])"
   ]
  },
  {
   "cell_type": "code",
   "execution_count": null,
   "metadata": {},
   "outputs": [],
   "source": [
    "for reg in init_reg_list:\n",
    "    ret, _ = dev.i2c_write_read(slave_id=0x40, write_list=reg, read_length=0)\n",
    "    assert ret, \"I2C write init reg list error\"\n",
    "for reg in mode_reg_list:\n",
    "    ret, _ = dev.i2c_write_read(slave_id=0x40, write_list=reg, read_length=0)\n",
    "    assert ret, \"I2C write mode reg list error\"\n",
    "    "
   ]
  },
  {
   "cell_type": "code",
   "execution_count": null,
   "metadata": {},
   "outputs": [],
   "source": [
    "# configure spi as slave mode\n",
    "dev.spi_config(miso_io_num=12, mosi_io_num=13, sclk_io_num=14, cs_io_num=15, mode=0, master_slave_mode=1)"
   ]
  },
  {
   "cell_type": "code",
   "execution_count": null,
   "metadata": {},
   "outputs": [],
   "source": [
    "read_size = 320 * 240 * 2 + (320 * 12) + (9 + 4)\n",
    "logger.info(f\"read_size: {read_size}\")\n",
    "ret, data = dev.spi_write_read([], read_size, timeout=100)"
   ]
  },
  {
   "cell_type": "code",
   "execution_count": null,
   "metadata": {},
   "outputs": [],
   "source": []
  }
 ],
 "metadata": {
  "kernelspec": {
   "display_name": ".venv",
   "language": "python",
   "name": "python3"
  },
  "language_info": {
   "codemirror_mode": {
    "name": "ipython",
    "version": 3
   },
   "file_extension": ".py",
   "mimetype": "text/x-python",
   "name": "python",
   "nbconvert_exporter": "python",
   "pygments_lexer": "ipython3",
   "version": "3.12.2"
  }
 },
 "nbformat": 4,
 "nbformat_minor": 2
}
